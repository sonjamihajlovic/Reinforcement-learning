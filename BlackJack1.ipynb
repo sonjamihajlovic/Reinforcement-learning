{
  "cells": [
    {
      "cell_type": "markdown",
      "id": "e3ac708a-c4f8-4535-8b4c-ee17cbaa0a52",
      "metadata": {
        "id": "e3ac708a-c4f8-4535-8b4c-ee17cbaa0a52"
      },
      "source": [
        "# Blackjack"
      ]
    },
    {
      "cell_type": "markdown",
      "id": "22368046-207f-4ede-b38e-86380a439928",
      "metadata": {
        "id": "22368046-207f-4ede-b38e-86380a439928"
      },
      "source": [
        "We consider a slightly simplified version of **blackjack** in which a **player** plays against the **dealer**. Both agents (**player** and **dealer**) start with a single card. The **player** first take his turns, and then (once the player is finished) the **dealer** may play (unless the player was _busted_, in which case the dealer authomatically wins, and need not play).\n",
        "\n",
        "In each turn, an agent may choose two actions: **HIT** or **HOLD**. By choosing **HIT**, the agent is asking for one more card from the deck. By choosing **HOLD**, the agent finishes his turn without drawing an additional card.\n",
        "\n",
        "The agent **total** is the sum of **values** of all cards the agent has drawn, including the initial card handed to it on the start of the game. The \"small cards\" (2, 3, 4, ..., 9, 10) have the value equal to their number. The \"face cards\" (J, Q, K) have value 10. Ace (A) can have two values: 1 or 11, depending on the choice of the agent.\n",
        "\n",
        "THE GOAL OF THE GAME IS TO HAVE THE HIGHEST TOTAL NOT BIGGER THAN 21. If an agent achieves the total bigger than 21 it losses the game (we say that the agent is _busted_ in this case). More precisely:\n",
        "\n",
        "* If the player is busted, dealer wins.\n",
        "* If the players is not busted, then:\n",
        "  - If the dealer is busted, player wins.\n",
        "  - If the dealer is not busted, the agent with the highest total wins.\n",
        "  - In case that neither agent is busted, and both have the same total, the game is draw.\n",
        "\n",
        "Upon playing each game, the wining agent receives reward +1, the losing agent receives -1. If the game is draw, both agents receive 0. The reward is given only when the game is over. No reward is received after non-terminating actions (the reward following those actions is 0)."
      ]
    },
    {
      "cell_type": "markdown",
      "id": "116c2314-010d-4f6e-ba63-43f29d503191",
      "metadata": {
        "id": "116c2314-010d-4f6e-ba63-43f29d503191"
      },
      "source": [
        "<div class=\"alert alert-block alert-info\">\n",
        "<b>The Assignment:</b>\n",
        "Train a bot able to play blackjack agains the dealer.\n",
        "</div>"
      ]
    },
    {
      "cell_type": "markdown",
      "id": "ffc0e0b8-a577-4d47-8712-a9a2a75c1a78",
      "metadata": {
        "id": "ffc0e0b8-a577-4d47-8712-a9a2a75c1a78"
      },
      "source": [
        "<div class=\"alert alert-block alert-warning\">\n",
        "<b>Dealer strategy:</b>\n",
        "    Assume that the dealer is playing according to a fixed strategy: Choose HIT as long as the dealer total is not above 17, otherwise choose HOLD.\n",
        "</div>"
      ]
    },
    {
      "cell_type": "markdown",
      "id": "4ccc8714-e0bb-4bb5-9151-2194a3eb520e",
      "metadata": {
        "id": "4ccc8714-e0bb-4bb5-9151-2194a3eb520e"
      },
      "source": [
        "## Basic Imports"
      ]
    },
    {
      "cell_type": "code",
      "execution_count": null,
      "id": "33fa7810-881e-4c53-994c-a5c954a71861",
      "metadata": {
        "id": "33fa7810-881e-4c53-994c-a5c954a71861"
      },
      "outputs": [],
      "source": [
        "from enum import Enum\n",
        "from dataclasses import dataclass, astuple\n",
        "from typing import Callable\n",
        "from random import random, randint\n",
        "from copy import deepcopy\n",
        "\n",
        "from tqdm import trange\n",
        "from rich import print\n",
        "\n",
        "import numpy as np\n",
        "import matplotlib.pyplot as plt"
      ]
    },
    {
      "cell_type": "markdown",
      "id": "26b4cd3f-7662-4aff-80fc-45062ed16274",
      "metadata": {
        "id": "26b4cd3f-7662-4aff-80fc-45062ed16274"
      },
      "source": [
        "## Cards and Decks of Cards"
      ]
    },
    {
      "cell_type": "markdown",
      "id": "211076b6-844d-4e3a-a587-7d10f25a3a11",
      "metadata": {
        "id": "211076b6-844d-4e3a-a587-7d10f25a3a11"
      },
      "source": [
        "Let us first implement cards and decks of cards."
      ]
    },
    {
      "cell_type": "code",
      "execution_count": null,
      "id": "6e4c95bc-79b8-4598-a626-d3a2fe20d3b1",
      "metadata": {
        "id": "6e4c95bc-79b8-4598-a626-d3a2fe20d3b1"
      },
      "outputs": [],
      "source": [
        "class CardSuit(Enum):\n",
        "    \"\"\"An enumeration representing card suits.\"\"\"\n",
        "\n",
        "    DIAMONDS = 0\n",
        "    CLUBS = 1\n",
        "    HEARTS = 2\n",
        "    SPADES = 3\n",
        "\n",
        "    def __repr__(self):\n",
        "        match self:\n",
        "            case CardSuit.DIAMONDS:\n",
        "                return \"♦\"\n",
        "            case CardSuit.CLUBS:\n",
        "                return \"♣\"\n",
        "            case CardSuit.HEARTS:\n",
        "                return \"♥\"\n",
        "            case CardSuit.SPADES:\n",
        "                return \"♠\""
      ]
    },
    {
      "cell_type": "code",
      "execution_count": null,
      "id": "7435ec76-6263-4e6f-a70c-bbc9e42e4ef1",
      "metadata": {
        "id": "7435ec76-6263-4e6f-a70c-bbc9e42e4ef1"
      },
      "outputs": [],
      "source": [
        "class CardValue(Enum):\n",
        "    \"\"\"An enumeration representing card values.\"\"\"\n",
        "\n",
        "    ACE = 1\n",
        "    TWO = 2\n",
        "    THREE = 3\n",
        "    FOUR = 4\n",
        "    FIVE = 5\n",
        "    SIX = 6\n",
        "    SEVEN = 7\n",
        "    EIGHT = 8\n",
        "    NINE = 9\n",
        "    TEN = 10\n",
        "    JACK = 10\n",
        "    DAME = 10\n",
        "    KING = 10\n",
        "\n",
        "    def __repr__(self):\n",
        "        if self == CardValue.ACE:\n",
        "            return \"A\"\n",
        "        elif self.value >= 2 and self.value <= 10:\n",
        "            return str(self.value)\n",
        "        elif self == CardValue.JACK:\n",
        "            return \"J\"\n",
        "        elif self == CardValue.DAME:\n",
        "            return \"D\"\n",
        "        elif self == CardValue.KING:\n",
        "            return \"K\""
      ]
    },
    {
      "cell_type": "markdown",
      "id": "292cbd37-5851-4c19-baf7-6ead045e3517",
      "metadata": {
        "id": "292cbd37-5851-4c19-baf7-6ead045e3517"
      },
      "source": [
        "A card is completely defined by a combination of face and suit. We could implement cards as tuples. However, we will implement a separate class for this, solely in order to have a nice, natural representation of cards as string.\n",
        "\n",
        "To get the best of both worlds, we will create a card class a _dataclass_!"
      ]
    },
    {
      "cell_type": "code",
      "execution_count": null,
      "id": "b5ccaab7-6828-4111-9cc0-196f3bb8cb3e",
      "metadata": {
        "id": "b5ccaab7-6828-4111-9cc0-196f3bb8cb3e"
      },
      "outputs": [],
      "source": [
        "@dataclass\n",
        "class Card:\n",
        "    \"\"\"A playing card.\"\"\"\n",
        "    value: CardValue\n",
        "    suit: CardSuit\n",
        "\n",
        "    def __repr__(self):\n",
        "        return f\"{repr(self.value)}{repr(self.suit)}\""
      ]
    },
    {
      "cell_type": "markdown",
      "id": "f94f9c11-972a-4d48-bd66-fb8a43f8f991",
      "metadata": {
        "id": "f94f9c11-972a-4d48-bd66-fb8a43f8f991"
      },
      "source": [
        "Just to illustrate, let us create a card and see how nicely it is written to the console."
      ]
    },
    {
      "cell_type": "code",
      "execution_count": null,
      "id": "8717cc22-406c-4d60-a488-08cd2d5c8332",
      "metadata": {
        "colab": {
          "base_uri": "https://localhost:8080/"
        },
        "id": "8717cc22-406c-4d60-a488-08cd2d5c8332",
        "outputId": "37d7b457-1f16-4501-db2d-2cba6c45148a"
      },
      "outputs": [
        {
          "output_type": "execute_result",
          "data": {
            "text/plain": [
              "A♥"
            ]
          },
          "metadata": {},
          "execution_count": 376
        }
      ],
      "source": [
        "Card(value=CardValue.ACE, suit=CardSuit.HEARTS)"
      ]
    },
    {
      "cell_type": "markdown",
      "id": "3e9557e4-31ac-4068-971b-12e25b416a4c",
      "metadata": {
        "id": "3e9557e4-31ac-4068-971b-12e25b416a4c"
      },
      "source": [
        "Once we have implemented individual cards, we may proceede to implement a deck."
      ]
    },
    {
      "cell_type": "code",
      "execution_count": null,
      "id": "9f325133-0b5b-44c9-a140-1f8eff3e04bc",
      "metadata": {
        "id": "9f325133-0b5b-44c9-a140-1f8eff3e04bc"
      },
      "outputs": [],
      "source": [
        "class CardDeck:\n",
        "    \"\"\"A deck of cards.\n",
        "\n",
        "    The deck contains 52 playing cards, which are shuffled and drawn consecutively.\n",
        "    Once all cards have been drawn, the deck reshuffles automatically.\n",
        "    \"\"\"\n",
        "\n",
        "    \"\"\"def reshuffle(self):\n",
        "        #Refill the deck with all playing cards and reshuffle it.\n",
        "        self.cards = self.multiplicity * [Card(value=v, suit=s)\n",
        "                                          for v in iter(CardValue)\n",
        "                                          for s in iter(CardSuit)]\n",
        "        np.random.shuffle(self.cards) \"\"\"\n",
        "\n",
        "    def __init__(self):\n",
        "        self.cards = [Card(value=v, suit=s) for v in CardValue for s in CardSuit]\n",
        "        np.random.shuffle(self.cards)\n",
        "\n",
        "    def draw(self):\n",
        "        if not self.cards:\n",
        "            self.__init__()\n",
        "        return self.cards.pop(0)"
      ]
    },
    {
      "cell_type": "code",
      "execution_count": null,
      "id": "5a59b26d-471d-4025-a8a8-d4b90a44e09a",
      "metadata": {
        "colab": {
          "base_uri": "https://localhost:8080/",
          "height": 66
        },
        "id": "5a59b26d-471d-4025-a8a8-d4b90a44e09a",
        "outputId": "c1bd5059-c4ae-4cf1-cbb3-eb53ac987891"
      },
      "outputs": [
        {
          "output_type": "display_data",
          "data": {
            "text/plain": [
              "\u001b[1;36m8\u001b[0m♥, \u001b[1;36m6\u001b[0m♥, \u001b[1;36m2\u001b[0m♣, \u001b[1;36m7\u001b[0m♦, \u001b[1;36m6\u001b[0m♦, \u001b[1;36m10\u001b[0m♦, \u001b[1;36m10\u001b[0m♠, \u001b[1;36m5\u001b[0m♣, \u001b[1;36m9\u001b[0m♦, \u001b[1;36m8\u001b[0m♠, \u001b[1;36m4\u001b[0m♥, \u001b[1;36m7\u001b[0m♥, \u001b[1;36m3\u001b[0m♠, \u001b[1;36m9\u001b[0m♥, \u001b[1;36m4\u001b[0m♠, \u001b[1;36m2\u001b[0m♦, \u001b[1;36m5\u001b[0m♦, \u001b[1;36m10\u001b[0m♣, \u001b[1;36m3\u001b[0m♥, A♣, \u001b[1;36m6\u001b[0m♠, \u001b[1;36m2\u001b[0m♠, \u001b[1;36m7\u001b[0m♠, \u001b[1;36m4\u001b[0m♣, \u001b[1;36m3\u001b[0m♣, \u001b[1;36m3\u001b[0m♦, A♥, \u001b[1;36m7\u001b[0m♣, \n",
              "A♠, \u001b[1;36m4\u001b[0m♦, \u001b[1;36m2\u001b[0m♥, \u001b[1;36m6\u001b[0m♣, \u001b[1;36m5\u001b[0m♥, \u001b[1;36m5\u001b[0m♠, \u001b[1;36m9\u001b[0m♠, \u001b[1;36m8\u001b[0m♣, \u001b[1;36m8\u001b[0m♦, \u001b[1;36m9\u001b[0m♣, \u001b[1;36m10\u001b[0m♥, A♦\n"
            ],
            "text/html": [
              "<pre style=\"white-space:pre;overflow-x:auto;line-height:normal;font-family:Menlo,'DejaVu Sans Mono',consolas,'Courier New',monospace\"><span style=\"color: #008080; text-decoration-color: #008080; font-weight: bold\">8</span>♥, <span style=\"color: #008080; text-decoration-color: #008080; font-weight: bold\">6</span>♥, <span style=\"color: #008080; text-decoration-color: #008080; font-weight: bold\">2</span>♣, <span style=\"color: #008080; text-decoration-color: #008080; font-weight: bold\">7</span>♦, <span style=\"color: #008080; text-decoration-color: #008080; font-weight: bold\">6</span>♦, <span style=\"color: #008080; text-decoration-color: #008080; font-weight: bold\">10</span>♦, <span style=\"color: #008080; text-decoration-color: #008080; font-weight: bold\">10</span>♠, <span style=\"color: #008080; text-decoration-color: #008080; font-weight: bold\">5</span>♣, <span style=\"color: #008080; text-decoration-color: #008080; font-weight: bold\">9</span>♦, <span style=\"color: #008080; text-decoration-color: #008080; font-weight: bold\">8</span>♠, <span style=\"color: #008080; text-decoration-color: #008080; font-weight: bold\">4</span>♥, <span style=\"color: #008080; text-decoration-color: #008080; font-weight: bold\">7</span>♥, <span style=\"color: #008080; text-decoration-color: #008080; font-weight: bold\">3</span>♠, <span style=\"color: #008080; text-decoration-color: #008080; font-weight: bold\">9</span>♥, <span style=\"color: #008080; text-decoration-color: #008080; font-weight: bold\">4</span>♠, <span style=\"color: #008080; text-decoration-color: #008080; font-weight: bold\">2</span>♦, <span style=\"color: #008080; text-decoration-color: #008080; font-weight: bold\">5</span>♦, <span style=\"color: #008080; text-decoration-color: #008080; font-weight: bold\">10</span>♣, <span style=\"color: #008080; text-decoration-color: #008080; font-weight: bold\">3</span>♥, A♣, <span style=\"color: #008080; text-decoration-color: #008080; font-weight: bold\">6</span>♠, <span style=\"color: #008080; text-decoration-color: #008080; font-weight: bold\">2</span>♠, <span style=\"color: #008080; text-decoration-color: #008080; font-weight: bold\">7</span>♠, <span style=\"color: #008080; text-decoration-color: #008080; font-weight: bold\">4</span>♣, <span style=\"color: #008080; text-decoration-color: #008080; font-weight: bold\">3</span>♣, <span style=\"color: #008080; text-decoration-color: #008080; font-weight: bold\">3</span>♦, A♥, <span style=\"color: #008080; text-decoration-color: #008080; font-weight: bold\">7</span>♣, \n",
              "A♠, <span style=\"color: #008080; text-decoration-color: #008080; font-weight: bold\">4</span>♦, <span style=\"color: #008080; text-decoration-color: #008080; font-weight: bold\">2</span>♥, <span style=\"color: #008080; text-decoration-color: #008080; font-weight: bold\">6</span>♣, <span style=\"color: #008080; text-decoration-color: #008080; font-weight: bold\">5</span>♥, <span style=\"color: #008080; text-decoration-color: #008080; font-weight: bold\">5</span>♠, <span style=\"color: #008080; text-decoration-color: #008080; font-weight: bold\">9</span>♠, <span style=\"color: #008080; text-decoration-color: #008080; font-weight: bold\">8</span>♣, <span style=\"color: #008080; text-decoration-color: #008080; font-weight: bold\">8</span>♦, <span style=\"color: #008080; text-decoration-color: #008080; font-weight: bold\">9</span>♣, <span style=\"color: #008080; text-decoration-color: #008080; font-weight: bold\">10</span>♥, A♦\n",
              "</pre>\n"
            ]
          },
          "metadata": {}
        }
      ],
      "source": [
        "# These few lines simply visualize random card ordering in a deck.\n",
        "deck = CardDeck()\n",
        "print(\", \".join([repr(c) for c in deck.cards]))"
      ]
    },
    {
      "cell_type": "markdown",
      "id": "0bf09adc-afad-45fa-aaba-a89558c2e2a8",
      "metadata": {
        "id": "0bf09adc-afad-45fa-aaba-a89558c2e2a8"
      },
      "source": [
        "## Blackjack State and Rules for Updating the State"
      ]
    },
    {
      "cell_type": "markdown",
      "id": "93232f44-a958-4c3f-a126-015a4549843b",
      "metadata": {
        "id": "93232f44-a958-4c3f-a126-015a4549843b"
      },
      "source": [
        "We now proceede to implement the state of a blackjack game, as well as different policies."
      ]
    },
    {
      "cell_type": "markdown",
      "id": "5df0d9b8-daa5-4ac5-a4ba-1fb3ce5ee46d",
      "metadata": {
        "id": "5df0d9b8-daa5-4ac5-a4ba-1fb3ce5ee46d"
      },
      "source": [
        "From the position of a player, the **state** of a blackjack game is defined by the list of all cards it has previously drawn (including the card that was initially given to it) and also the card in the posession of the dealer. However, the state defined in such a way actually contains more information than is needed to form a decission. It is sufficient to know:\n",
        "* the current player total;\n",
        "* if this total is created using an ACE which can be converted to 1, if needed; and\n",
        "* the value of the dealer's card"
      ]
    },
    {
      "cell_type": "markdown",
      "id": "d89e9359-4e2f-4198-b7f9-64fccafca713",
      "metadata": {
        "id": "d89e9359-4e2f-4198-b7f9-64fccafca713"
      },
      "source": [
        "As before, we utilize the concept of `dataclass` in order to implement the `State`."
      ]
    },
    {
      "cell_type": "code",
      "execution_count": null,
      "id": "c53b83ca-b581-4ad3-b211-b36ed674ed9f",
      "metadata": {
        "id": "c53b83ca-b581-4ad3-b211-b36ed674ed9f"
      },
      "outputs": [],
      "source": [
        "@dataclass\n",
        "class State:\n",
        "    \"\"\"The state of a Blackjack game\"\"\"\n",
        "    total: int\n",
        "    has_ace: bool\n",
        "    dealer_total: int\n",
        "\n",
        "    def __hash__(self):\n",
        "        return hash((self.total, self.has_ace, self.dealer_total))\n",
        "\n",
        "    def __repr__(self):\n",
        "        return f\"({self.total}, {'A' if self.has_ace else 'no A'}, {self.dealer_total})\"\n"
      ]
    },
    {
      "cell_type": "markdown",
      "id": "047bff95-c92d-4f45-8590-03c95f7ec396",
      "metadata": {
        "id": "047bff95-c92d-4f45-8590-03c95f7ec396"
      },
      "source": [
        "We will now define a function which updates the total once the new card is drawn. In a way, this function implements core of the blackjack playing rules."
      ]
    },
    {
      "cell_type": "code",
      "execution_count": null,
      "id": "5658b6ab-d47f-407c-9f53-3578780aade5",
      "metadata": {
        "id": "5658b6ab-d47f-407c-9f53-3578780aade5"
      },
      "outputs": [],
      "source": [
        "def update_total(total: int, has_ace: bool, card_value: CardValue) -> tuple[int, bool]:\n",
        "    \"\"\"Update (a portion of) the player state by taking account a newly drawn card.\n",
        "\n",
        "    Given the information regarding the current player state (total and ACE info), and the\n",
        "    value of a newly drawn card, updates the current player state (both total and ACE info).\n",
        "\n",
        "    The updated total returned by this function can be bigger than 21.\n",
        "    The function correctly tracks statuses of ACEs (i.e. it changes values of ACEs from\n",
        "    11 to 1, when appropriate, in order for the total not to excede 21), however, if\n",
        "    after this the total still remains bigger than 21 the function will simply return it\n",
        "    as is.\n",
        "\n",
        "    Args:\n",
        "        total (int): player total\n",
        "        has_ace (bool): indicates if the player has usable ACE\n",
        "        card_value (CardValue): value of the newly drawn card\n",
        "\n",
        "    Returns:\n",
        "        int: updated player total\n",
        "        bool: updated info indicating if the player has a usable ACE\n",
        "    \"\"\"\n",
        "    if card_value == CardValue.ACE:\n",
        "        if total + 11 <= 21:\n",
        "            # We have an ACE and the total is less than 21.\n",
        "            # We can keep the ACE as 11.\n",
        "            # Notice that it was impossible that we had another ACE in posession\n",
        "            # before (since in that case the total would surely be bigger than 21)\n",
        "            return (total+11, True)\n",
        "        else:\n",
        "            # The total excedes 21, and we must count the ACE as 1.\n",
        "            # It is possible we had another active ACE before, if so the\n",
        "            # status of this old ACE does not change.\n",
        "            return (total+1, has_ace)\n",
        "    else:\n",
        "        total += min(card_value.value, 10)\n",
        "        if total > 21:\n",
        "            # The player is potentially busted.\n",
        "            if has_ace:\n",
        "                # If we have an active ACE, we are saved.\n",
        "                # The ACE value is reduced from 11 to 1 (and the total is reduced by 10).\n",
        "                # However, the cost is that we no longer have an active ACE.\n",
        "                total -= 10\n",
        "                return (total, False)\n",
        "            else:\n",
        "                # We have not active ACE, so we cannote decrease the total\n",
        "                return (total, has_ace)\n",
        "        # The total is less than 21, we may return the state as is.\n",
        "        return (total, has_ace)"
      ]
    },
    {
      "cell_type": "markdown",
      "id": "874eeb88-b761-4843-a55c-8a77a6f12e01",
      "metadata": {
        "id": "874eeb88-b761-4843-a55c-8a77a6f12e01"
      },
      "source": [
        "Another usefull function will be the one that generates a random state. A valid Blackjack state is any in which the player total is between 2 and 21 (1 is never the total, since it could only happen by having a single ACE, which would be counted by 11). ACE indication can be `True` only if the total is bigger or equal to 11. Further, since the dealer has only one card during a player's turn, possible card values are between 2 and 11."
      ]
    },
    {
      "cell_type": "code",
      "execution_count": null,
      "id": "778e75cb-f7b7-41d7-8085-bb92db864049",
      "metadata": {
        "id": "778e75cb-f7b7-41d7-8085-bb92db864049"
      },
      "outputs": [],
      "source": [
        "def random_state() -> State:\n",
        "    \"\"\"Generate a random state.\"\"\"\n",
        "    total = randint(2, 21)\n",
        "    if total>= 11:\n",
        "        r = random()\n",
        "        if r >= 0.5:\n",
        "            has_ace = True\n",
        "        else:\n",
        "            has_ace = False\n",
        "    else:\n",
        "        has_ace = False\n",
        "    dealer_value = randint(2, 11)\n",
        "    return State(total, has_ace, dealer_value)"
      ]
    },
    {
      "cell_type": "code",
      "execution_count": null,
      "id": "b400368e-555f-4304-a2e8-48b22529de27",
      "metadata": {
        "id": "b400368e-555f-4304-a2e8-48b22529de27"
      },
      "outputs": [],
      "source": [
        "def all_states() -> list[State]:\n",
        "    \"\"\"Create a list of all possible Blackjack states.\"\"\"\n",
        "    states = []\n",
        "    for total in range(2, 22):\n",
        "        for dealer_value in range(2, 12):\n",
        "            states.append(State(total, False, dealer_value))\n",
        "            if total >= 11:\n",
        "                states.append(State(total, True, dealer_value))\n",
        "    return states"
      ]
    },
    {
      "cell_type": "code",
      "execution_count": null,
      "id": "18474438-8b9a-45b9-9612-b396226f516d",
      "metadata": {
        "colab": {
          "base_uri": "https://localhost:8080/"
        },
        "id": "18474438-8b9a-45b9-9612-b396226f516d",
        "outputId": "eede0551-78dc-4436-f43e-9089efaa5149"
      },
      "outputs": [
        {
          "output_type": "execute_result",
          "data": {
            "text/plain": [
              "310"
            ]
          },
          "metadata": {},
          "execution_count": 383
        }
      ],
      "source": [
        "states = all_states()\n",
        "len(states)"
      ]
    },
    {
      "cell_type": "markdown",
      "id": "3a069be9-80ae-499b-b0fa-09b5239440cd",
      "metadata": {
        "id": "3a069be9-80ae-499b-b0fa-09b5239440cd"
      },
      "source": [
        "## Blackjack Actions and Policies"
      ]
    },
    {
      "cell_type": "markdown",
      "id": "52b011a8-60e4-4541-b204-babab5c9691e",
      "metadata": {
        "id": "52b011a8-60e4-4541-b204-babab5c9691e"
      },
      "source": [
        "We are now ready to define some interesting Blackjack policies. Before doing that, we will need to define Blackjack actions."
      ]
    },
    {
      "cell_type": "code",
      "execution_count": null,
      "id": "c9d38f37-c03c-4585-bdea-d7904e1fdf24",
      "metadata": {
        "id": "c9d38f37-c03c-4585-bdea-d7904e1fdf24"
      },
      "outputs": [],
      "source": [
        "class Action(Enum):\n",
        "    \"\"\"Blackjack action.\"\"\"\n",
        "    HIT = 0\n",
        "    HOLD = 1\n",
        "\n",
        "    def __repr__(self):\n",
        "        return \"HIT\" if self == Action.HIT else \"HOLD\""
      ]
    },
    {
      "cell_type": "code",
      "execution_count": null,
      "id": "8236a4bb-adee-4d99-80e4-8f612a830cec",
      "metadata": {
        "id": "8236a4bb-adee-4d99-80e4-8f612a830cec"
      },
      "outputs": [],
      "source": [
        "def random_action() -> Action:\n",
        "    \"\"\"Return random action.\"\"\"\n",
        "    r = random()\n",
        "    if r <= 0.5:\n",
        "        return Action.HIT\n",
        "    else:\n",
        "        return Action.HOLD"
      ]
    },
    {
      "cell_type": "markdown",
      "id": "04654662-191c-4dc7-81d5-4531387ad806",
      "metadata": {
        "id": "04654662-191c-4dc7-81d5-4531387ad806"
      },
      "source": [
        "A policy can be seen as a function which, given a state, returns the action to take. Let us first define a type to describe all actions (so that we can use it in signatures of functions and methods)."
      ]
    },
    {
      "cell_type": "code",
      "execution_count": null,
      "id": "ed4cc6f3-5584-4365-bf55-0fb14b035941",
      "metadata": {
        "id": "ed4cc6f3-5584-4365-bf55-0fb14b035941"
      },
      "outputs": [],
      "source": [
        "Policy = Callable[[State], Action]"
      ]
    },
    {
      "cell_type": "markdown",
      "id": "5d5c650a-8479-430c-a95f-fead78cec6a7",
      "metadata": {
        "id": "5d5c650a-8479-430c-a95f-fead78cec6a7"
      },
      "source": [
        "Let us first define a **random policy**: A player using this policy will choose an action at random regardless of the state."
      ]
    },
    {
      "cell_type": "code",
      "execution_count": null,
      "id": "7e9e13cc-5775-4bd7-b333-1e4a94e4ba7d",
      "metadata": {
        "id": "7e9e13cc-5775-4bd7-b333-1e4a94e4ba7d"
      },
      "outputs": [],
      "source": [
        "def random_policy(s: State) -> Action:\n",
        "    return random_action()"
      ]
    },
    {
      "cell_type": "markdown",
      "id": "d85ed383-f072-4442-a970-865460fec47a",
      "metadata": {
        "id": "d85ed383-f072-4442-a970-865460fec47a"
      },
      "source": [
        "Another interesting policy is the **delaer policy**: Choose HIT whenever the total is less than 17, otherwise play HOLD."
      ]
    },
    {
      "cell_type": "code",
      "execution_count": null,
      "id": "688dcf98-b3b1-455b-acc5-744e5c258f8c",
      "metadata": {
        "id": "688dcf98-b3b1-455b-acc5-744e5c258f8c"
      },
      "outputs": [],
      "source": [
        "def dealer_policy(s: State) -> Action:\n",
        "    total, has_ace, _ = astuple(s)\n",
        "    if total < 17:\n",
        "        return Action.HIT\n",
        "    else:\n",
        "        return Action.HOLD"
      ]
    },
    {
      "cell_type": "markdown",
      "id": "f271cb76-cc5e-4a5e-a457-f1ba1b43988a",
      "metadata": {
        "id": "f271cb76-cc5e-4a5e-a457-f1ba1b43988a"
      },
      "source": [
        "## Using a Policy: Playing an Entire Turn (of a Player or a Dealer)"
      ]
    },
    {
      "cell_type": "markdown",
      "id": "c9585f5b-0582-4c30-aa17-cd0abf4aec20",
      "metadata": {
        "id": "c9585f5b-0582-4c30-aa17-cd0abf4aec20"
      },
      "source": [
        "We now proceed to implement a single **turn**. This will be used to identify a sequence of HIT actions of a single agent, starting from some given initial state until a HOLD action is selected, or the total excedes 21. One Blackjack game (the way we are playing it here) consists of two turns: the player's turn and the dealer's turn. So, once we implement the turn, we will be able to implement a single game. A path to implementing a learning agent will then be completely set."
      ]
    },
    {
      "cell_type": "markdown",
      "id": "35fc3cd4-5cf4-4fd1-b76a-47d27c7d52d3",
      "metadata": {
        "id": "35fc3cd4-5cf4-4fd1-b76a-47d27c7d52d3"
      },
      "source": [
        "In general, we will be \"playing\" games in several different scenarios. In cases we are learning, we will be interested in \"playing\" many (thousands and tens of thousands) of games silently. In other cases, particularly during testing and demonstration, we will be interested in carefully tracing each event within a single game."
      ]
    },
    {
      "cell_type": "markdown",
      "id": "71a85780-a562-4bb1-822d-cec38c7c9e23",
      "metadata": {
        "id": "71a85780-a562-4bb1-822d-cec38c7c9e23"
      },
      "source": [
        "Another interesting point to note is that we will wish to \"play\" games starting from different initial states. During learning, it will be of interest to choose the initial state completely randomly. During demonstration, it will be more interesting to have the game start in the usual way: by drawing a card from the deck for the player and another card from the deck for the dealer. For this reason, the `get_init_state` function allows for the `state` argument to be specified in three different ways:\n",
        "* as a `State` object, in which case this object is returned as the initial state\n",
        "* as a string \"random\", in which case a state is drawn completely randomly from the set of all possible states\n",
        "* as `None`, in which case the initial state is generated in the same way the game is actually played (by drawing cards from the deck: one for the player and one for the dealer)"
      ]
    },
    {
      "cell_type": "code",
      "execution_count": null,
      "id": "3facb134-8bc0-4500-b96c-87be67956ca1",
      "metadata": {
        "id": "3facb134-8bc0-4500-b96c-87be67956ca1"
      },
      "outputs": [],
      "source": [
        "def get_init_state(state: State | str | None, deck: CardDeck) -> State:\n",
        "    \"\"\"Generate initial state.\"\"\"\n",
        "    if state is None:\n",
        "        player_card = deck.draw()\n",
        "        total, has_ace = update_total(0, False, player_card.value)\n",
        "        dealer_card = deck.draw()\n",
        "        dealer_value = min(dealer_card.value.value, 10)\n",
        "        return State(total, has_ace, dealer_value)\n",
        "    else:\n",
        "        if isinstance(state, str):\n",
        "            assert state == \"random\", f\"Invalid init state specification: '{state}'\"\n",
        "            return random_state()\n",
        "        else:\n",
        "            return state"
      ]
    },
    {
      "cell_type": "markdown",
      "id": "17062bec-a25c-4772-9148-3911b31fa4b0",
      "metadata": {
        "id": "17062bec-a25c-4772-9148-3911b31fa4b0"
      },
      "source": [
        "Similarly, we may wish to simulate a turn with a fixed given initial action, or with the initial action determined by the decision policy. The `action` parameter behaves in the same way as the `state` parameter in the `get_init_state` function: it can be an `Action` object, the string \"random\", or `None`. In this case:\n",
        "* specifying an `Action` object results in returning the same object\n",
        "* specifying \"random\" requests for a radnom action\n",
        "* specifying `None` results in an action specified by the given decision policy"
      ]
    },
    {
      "cell_type": "code",
      "execution_count": null,
      "id": "3716efdd-7ccf-4f52-aafd-ad8101b619f7",
      "metadata": {
        "id": "3716efdd-7ccf-4f52-aafd-ad8101b619f7"
      },
      "outputs": [],
      "source": [
        "def get_init_action(action: Action | str | None, state: State, policy: Policy) -> Action:\n",
        "    \"\"\"Generate initial action.\"\"\"\n",
        "    if action is not None:\n",
        "        if isinstance(action, str):\n",
        "            assert action == \"random\", f\"Ivalid init action specification: '{action}'\"\n",
        "            return random_action()\n",
        "        else:\n",
        "            return action\n",
        "    else:\n",
        "        return policy(state)"
      ]
    },
    {
      "cell_type": "markdown",
      "id": "7b5adf11-f923-4fa0-8df6-dfcd659731de",
      "metadata": {
        "id": "7b5adf11-f923-4fa0-8df6-dfcd659731de"
      },
      "source": [
        "Finally, we are ready to implement a single turn of play... While playing we will track (log) the sequence of states and actions (we will refer to a list of all state-action pairs as `TurnLog`). We will need those information later, while implementing learning agents."
      ]
    },
    {
      "cell_type": "markdown",
      "id": "c690b8e3-37f0-4968-a140-84ad19790dee",
      "metadata": {
        "id": "c690b8e3-37f0-4968-a140-84ad19790dee"
      },
      "source": [
        "To make reporting functionality flexibile, we will add optional reporting arguments to all \"turn-playing\" and \"game-playing\" functions we implement -- report callbacks. They will be functions which take a textual message and (optionally) report them to a user."
      ]
    },
    {
      "cell_type": "code",
      "execution_count": null,
      "id": "8cf00d86-b925-4613-8819-2f023f37f83b",
      "metadata": {
        "id": "8cf00d86-b925-4613-8819-2f023f37f83b"
      },
      "outputs": [],
      "source": [
        "TurnLog = list[tuple[State, Action]]\n",
        "ReportCallback = Callable[[str], None]"
      ]
    },
    {
      "cell_type": "markdown",
      "id": "e5adc61c-d2dc-4a25-ba40-1795765c1233",
      "metadata": {
        "id": "e5adc61c-d2dc-4a25-ba40-1795765c1233"
      },
      "source": [
        "Now, we implement the function which actually plays a single turn of an agent (which may be a player or a dealer)."
      ]
    },
    {
      "cell_type": "code",
      "execution_count": null,
      "id": "f6f9d8cc-811c-4074-82ac-6da3d0e6dc4f",
      "metadata": {
        "id": "f6f9d8cc-811c-4074-82ac-6da3d0e6dc4f"
      },
      "outputs": [],
      "source": [
        "def play_turn(policy: Policy,\n",
        "              deck: CardDeck,\n",
        "              init_state: State | None = None,\n",
        "              init_action: Action | None = None,\n",
        "              report_callback: ReportCallback | None = None) -> tuple[int | None, TurnLog]:\n",
        "    \"\"\"A single playing turn of an agent.\n",
        "\n",
        "    Args:\n",
        "        policy (Policy): decision policy used by the agent\n",
        "        deck (CardDeck): deck of cards from which to draw\n",
        "        init_state (State | None): initial state or `None` if the initial state\n",
        "                                   is to be selected by drawing from the deck.\n",
        "        init_action (Action | None): initial action or `None` if the initial action\n",
        "                                     is to be selected according to the decision policy\n",
        "        report_callback (ReportCallback | None): callback used to report progress\n",
        "                                                 if `None`, the turn will be played silently\n",
        "\n",
        "    Return:\n",
        "        int | None: The final agent's total or `None` if the agent is busted\n",
        "        TurnLog: sequence of states and actions observed during gameplay\n",
        "    \"\"\"\n",
        "    report = lambda txt: report_callback and report_callback(txt)\n",
        "\n",
        "    # Draw initial cards for the player and dealer\n",
        "    player_cards = [deck.draw(), deck.draw()]\n",
        "    dealer_cards = [deck.draw(), deck.draw()]  # Dealer's second card is hidden\n",
        "\n",
        "    # Initial state for the player\n",
        "    total = sum(card.value.value for card in player_cards)\n",
        "    has_ace = any(card.value == CardValue.ACE for card in player_cards)\n",
        "    dealer_value = dealer_cards[0].value.value\n",
        "\n",
        "    state = State(total, has_ace, dealer_value)\n",
        "\n",
        "    action = get_init_action(init_action, state, policy)\n",
        "    report(f\"[bold]initial state[/] {state}\")\n",
        "    report(f\"initial total {total} with ACE {has_ace} => [bold]initial action[/] {action}\")\n",
        "    turn_log = [(state, action)]\n",
        "\n",
        "    while action == Action.HIT:\n",
        "        card = deck.draw()\n",
        "        total, has_ace = update_total(total, has_ace, card.value)\n",
        "        state = State(total, has_ace, dealer_value)\n",
        "\n",
        "        if total > 21:\n",
        "            # Since total is above 21, the state is not valid and should not\n",
        "            # be logged!\n",
        "            report(f\"turned finished - [bold]BUSTED![/] card drawn {card} => total {total} with ACE {has_ace}\")\n",
        "            return None, turn_log\n",
        "        else:\n",
        "            action = policy(state)\n",
        "            turn_log.append((state, action))\n",
        "            report(f\"card drawn {card} => total {total} with ACE {has_ace} => action chosen {action}\")\n",
        "\n",
        "    report(f\"turn finished with final total {total}\")\n",
        "    return total, turn_log\n"
      ]
    },
    {
      "cell_type": "markdown",
      "id": "066237a2-f33f-4bc8-b4e4-2cf8685aedb3",
      "metadata": {
        "id": "066237a2-f33f-4bc8-b4e4-2cf8685aedb3"
      },
      "source": [
        "We can now test the functionality implemented thus far... We will first create a small callback function useful for reporting. Please note that this function is using `print` function **which is not the default `print` function of `python`**. In the very first cell of this notebook there is a line:\n",
        "\n",
        "```\n",
        "from rich import print\n",
        "```\n",
        "\n",
        "This line introduces the `print` function from the `rich` library and essentially overloads the name `print`, so that any subsequent call to `print` actually reference the implementation from the library and not the built-in one. One of the advantages of the `rich` version of the `print` function is that it can produce rich and colorfull output using simple and straightforward markup language."
      ]
    },
    {
      "cell_type": "code",
      "execution_count": null,
      "id": "acc396d1-b402-4712-9bb4-64ba26119277",
      "metadata": {
        "id": "acc396d1-b402-4712-9bb4-64ba26119277"
      },
      "outputs": [],
      "source": [
        "report_callback = lambda txt: print(f\"[bold blue]AGENT:[/] {txt}\")"
      ]
    },
    {
      "cell_type": "code",
      "execution_count": null,
      "id": "a36bcbcb-3b63-4b24-bb49-802c4ad2a6e2",
      "metadata": {
        "colab": {
          "base_uri": "https://localhost:8080/",
          "height": 85
        },
        "id": "a36bcbcb-3b63-4b24-bb49-802c4ad2a6e2",
        "outputId": "06562d58-bbe5-4c1d-97fb-ff4fea97d419"
      },
      "outputs": [
        {
          "output_type": "display_data",
          "data": {
            "text/plain": [
              "\u001b[1;34mAGENT:\u001b[0m \u001b[1minitial state\u001b[0m \u001b[1m(\u001b[0m\u001b[1;36m14\u001b[0m, no A, \u001b[1;36m2\u001b[0m\u001b[1m)\u001b[0m\n"
            ],
            "text/html": [
              "<pre style=\"white-space:pre;overflow-x:auto;line-height:normal;font-family:Menlo,'DejaVu Sans Mono',consolas,'Courier New',monospace\"><span style=\"color: #000080; text-decoration-color: #000080; font-weight: bold\">AGENT:</span> <span style=\"font-weight: bold\">initial state</span> <span style=\"font-weight: bold\">(</span><span style=\"color: #008080; text-decoration-color: #008080; font-weight: bold\">14</span>, no A, <span style=\"color: #008080; text-decoration-color: #008080; font-weight: bold\">2</span><span style=\"font-weight: bold\">)</span>\n",
              "</pre>\n"
            ]
          },
          "metadata": {}
        },
        {
          "output_type": "display_data",
          "data": {
            "text/plain": [
              "\u001b[1;34mAGENT:\u001b[0m initial total \u001b[1;36m14\u001b[0m with ACE \u001b[3;91mFalse\u001b[0m => \u001b[1minitial action\u001b[0m Action.HOLD\n"
            ],
            "text/html": [
              "<pre style=\"white-space:pre;overflow-x:auto;line-height:normal;font-family:Menlo,'DejaVu Sans Mono',consolas,'Courier New',monospace\"><span style=\"color: #000080; text-decoration-color: #000080; font-weight: bold\">AGENT:</span> initial total <span style=\"color: #008080; text-decoration-color: #008080; font-weight: bold\">14</span> with ACE <span style=\"color: #ff0000; text-decoration-color: #ff0000; font-style: italic\">False</span> =&gt; <span style=\"font-weight: bold\">initial action</span> Action.HOLD\n",
              "</pre>\n"
            ]
          },
          "metadata": {}
        },
        {
          "output_type": "display_data",
          "data": {
            "text/plain": [
              "\u001b[1;34mAGENT:\u001b[0m turn finished with final total \u001b[1;36m14\u001b[0m\n"
            ],
            "text/html": [
              "<pre style=\"white-space:pre;overflow-x:auto;line-height:normal;font-family:Menlo,'DejaVu Sans Mono',consolas,'Courier New',monospace\"><span style=\"color: #000080; text-decoration-color: #000080; font-weight: bold\">AGENT:</span> turn finished with final total <span style=\"color: #008080; text-decoration-color: #008080; font-weight: bold\">14</span>\n",
              "</pre>\n"
            ]
          },
          "metadata": {}
        },
        {
          "output_type": "execute_result",
          "data": {
            "text/plain": [
              "(14, [((14, no A, 2), HOLD)])"
            ]
          },
          "metadata": {},
          "execution_count": 394
        }
      ],
      "source": [
        "# Testing the random policy\n",
        "# Initial state is chosen by drawing cards from the deck. The initial action is chosen according to the policy\n",
        "play_turn(random_policy, deck, report_callback=report_callback)"
      ]
    },
    {
      "cell_type": "code",
      "execution_count": null,
      "id": "5bd8fb30-9637-40c1-8468-2306139cf2f0",
      "metadata": {
        "colab": {
          "base_uri": "https://localhost:8080/",
          "height": 85
        },
        "id": "5bd8fb30-9637-40c1-8468-2306139cf2f0",
        "outputId": "e9ef8f94-7ded-434a-eca8-c755dfd627d5"
      },
      "outputs": [
        {
          "output_type": "display_data",
          "data": {
            "text/plain": [
              "\u001b[1;34mAGENT:\u001b[0m \u001b[1minitial state\u001b[0m \u001b[1m(\u001b[0m\u001b[1;36m16\u001b[0m, no A, \u001b[1;36m10\u001b[0m\u001b[1m)\u001b[0m\n"
            ],
            "text/html": [
              "<pre style=\"white-space:pre;overflow-x:auto;line-height:normal;font-family:Menlo,'DejaVu Sans Mono',consolas,'Courier New',monospace\"><span style=\"color: #000080; text-decoration-color: #000080; font-weight: bold\">AGENT:</span> <span style=\"font-weight: bold\">initial state</span> <span style=\"font-weight: bold\">(</span><span style=\"color: #008080; text-decoration-color: #008080; font-weight: bold\">16</span>, no A, <span style=\"color: #008080; text-decoration-color: #008080; font-weight: bold\">10</span><span style=\"font-weight: bold\">)</span>\n",
              "</pre>\n"
            ]
          },
          "metadata": {}
        },
        {
          "output_type": "display_data",
          "data": {
            "text/plain": [
              "\u001b[1;34mAGENT:\u001b[0m initial total \u001b[1;36m16\u001b[0m with ACE \u001b[3;91mFalse\u001b[0m => \u001b[1minitial action\u001b[0m Action.HIT\n"
            ],
            "text/html": [
              "<pre style=\"white-space:pre;overflow-x:auto;line-height:normal;font-family:Menlo,'DejaVu Sans Mono',consolas,'Courier New',monospace\"><span style=\"color: #000080; text-decoration-color: #000080; font-weight: bold\">AGENT:</span> initial total <span style=\"color: #008080; text-decoration-color: #008080; font-weight: bold\">16</span> with ACE <span style=\"color: #ff0000; text-decoration-color: #ff0000; font-style: italic\">False</span> =&gt; <span style=\"font-weight: bold\">initial action</span> Action.HIT\n",
              "</pre>\n"
            ]
          },
          "metadata": {}
        },
        {
          "output_type": "display_data",
          "data": {
            "text/plain": [
              "\u001b[1;34mAGENT:\u001b[0m turned finished - \u001b[1mBUSTED!\u001b[0m card drawn \u001b[1;36m9\u001b[0m♦ => total \u001b[1;36m25\u001b[0m with ACE \u001b[3;91mFalse\u001b[0m\n"
            ],
            "text/html": [
              "<pre style=\"white-space:pre;overflow-x:auto;line-height:normal;font-family:Menlo,'DejaVu Sans Mono',consolas,'Courier New',monospace\"><span style=\"color: #000080; text-decoration-color: #000080; font-weight: bold\">AGENT:</span> turned finished - <span style=\"font-weight: bold\">BUSTED!</span> card drawn <span style=\"color: #008080; text-decoration-color: #008080; font-weight: bold\">9</span>♦ =&gt; total <span style=\"color: #008080; text-decoration-color: #008080; font-weight: bold\">25</span> with ACE <span style=\"color: #ff0000; text-decoration-color: #ff0000; font-style: italic\">False</span>\n",
              "</pre>\n"
            ]
          },
          "metadata": {}
        },
        {
          "output_type": "execute_result",
          "data": {
            "text/plain": [
              "(None, [((16, no A, 10), HIT)])"
            ]
          },
          "metadata": {},
          "execution_count": 395
        }
      ],
      "source": [
        "# Testing the dealer's policy\n",
        "# Initial state is chosen by drawing cards from the deck. The initial action is chosen according to the policy\n",
        "play_turn(dealer_policy, deck, report_callback=report_callback)"
      ]
    },
    {
      "cell_type": "code",
      "execution_count": null,
      "id": "ad14929f-785f-40c2-9c23-34f880e2fa39",
      "metadata": {
        "colab": {
          "base_uri": "https://localhost:8080/",
          "height": 85
        },
        "id": "ad14929f-785f-40c2-9c23-34f880e2fa39",
        "outputId": "bb3847cd-3669-4fe2-90cb-02621e0001ad"
      },
      "outputs": [
        {
          "output_type": "display_data",
          "data": {
            "text/plain": [
              "\u001b[1;34mAGENT:\u001b[0m \u001b[1minitial state\u001b[0m \u001b[1m(\u001b[0m\u001b[1;36m12\u001b[0m, no A, \u001b[1;36m7\u001b[0m\u001b[1m)\u001b[0m\n"
            ],
            "text/html": [
              "<pre style=\"white-space:pre;overflow-x:auto;line-height:normal;font-family:Menlo,'DejaVu Sans Mono',consolas,'Courier New',monospace\"><span style=\"color: #000080; text-decoration-color: #000080; font-weight: bold\">AGENT:</span> <span style=\"font-weight: bold\">initial state</span> <span style=\"font-weight: bold\">(</span><span style=\"color: #008080; text-decoration-color: #008080; font-weight: bold\">12</span>, no A, <span style=\"color: #008080; text-decoration-color: #008080; font-weight: bold\">7</span><span style=\"font-weight: bold\">)</span>\n",
              "</pre>\n"
            ]
          },
          "metadata": {}
        },
        {
          "output_type": "display_data",
          "data": {
            "text/plain": [
              "\u001b[1;34mAGENT:\u001b[0m initial total \u001b[1;36m12\u001b[0m with ACE \u001b[3;91mFalse\u001b[0m => \u001b[1minitial action\u001b[0m Action.HOLD\n"
            ],
            "text/html": [
              "<pre style=\"white-space:pre;overflow-x:auto;line-height:normal;font-family:Menlo,'DejaVu Sans Mono',consolas,'Courier New',monospace\"><span style=\"color: #000080; text-decoration-color: #000080; font-weight: bold\">AGENT:</span> initial total <span style=\"color: #008080; text-decoration-color: #008080; font-weight: bold\">12</span> with ACE <span style=\"color: #ff0000; text-decoration-color: #ff0000; font-style: italic\">False</span> =&gt; <span style=\"font-weight: bold\">initial action</span> Action.HOLD\n",
              "</pre>\n"
            ]
          },
          "metadata": {}
        },
        {
          "output_type": "display_data",
          "data": {
            "text/plain": [
              "\u001b[1;34mAGENT:\u001b[0m turn finished with final total \u001b[1;36m12\u001b[0m\n"
            ],
            "text/html": [
              "<pre style=\"white-space:pre;overflow-x:auto;line-height:normal;font-family:Menlo,'DejaVu Sans Mono',consolas,'Courier New',monospace\"><span style=\"color: #000080; text-decoration-color: #000080; font-weight: bold\">AGENT:</span> turn finished with final total <span style=\"color: #008080; text-decoration-color: #008080; font-weight: bold\">12</span>\n",
              "</pre>\n"
            ]
          },
          "metadata": {}
        },
        {
          "output_type": "execute_result",
          "data": {
            "text/plain": [
              "(12, [((12, no A, 7), HOLD)])"
            ]
          },
          "metadata": {},
          "execution_count": 396
        }
      ],
      "source": [
        "# If we like, we can force the initial action.\n",
        "# Subsequent actions will be selected according to the given policy.\n",
        "play_turn(dealer_policy, deck, init_action=Action.HOLD, report_callback=report_callback)"
      ]
    },
    {
      "cell_type": "code",
      "execution_count": null,
      "id": "3012ffb4-80d6-4850-9ef9-a33c692dced2",
      "metadata": {
        "colab": {
          "base_uri": "https://localhost:8080/",
          "height": 85
        },
        "id": "3012ffb4-80d6-4850-9ef9-a33c692dced2",
        "outputId": "2296566d-3d16-41df-90a7-d4d6c1fd550e"
      },
      "outputs": [
        {
          "output_type": "display_data",
          "data": {
            "text/plain": [
              "\u001b[1;34mAGENT:\u001b[0m \u001b[1minitial state\u001b[0m \u001b[1m(\u001b[0m\u001b[1;36m13\u001b[0m, no A, \u001b[1;36m2\u001b[0m\u001b[1m)\u001b[0m\n"
            ],
            "text/html": [
              "<pre style=\"white-space:pre;overflow-x:auto;line-height:normal;font-family:Menlo,'DejaVu Sans Mono',consolas,'Courier New',monospace\"><span style=\"color: #000080; text-decoration-color: #000080; font-weight: bold\">AGENT:</span> <span style=\"font-weight: bold\">initial state</span> <span style=\"font-weight: bold\">(</span><span style=\"color: #008080; text-decoration-color: #008080; font-weight: bold\">13</span>, no A, <span style=\"color: #008080; text-decoration-color: #008080; font-weight: bold\">2</span><span style=\"font-weight: bold\">)</span>\n",
              "</pre>\n"
            ]
          },
          "metadata": {}
        },
        {
          "output_type": "display_data",
          "data": {
            "text/plain": [
              "\u001b[1;34mAGENT:\u001b[0m initial total \u001b[1;36m13\u001b[0m with ACE \u001b[3;91mFalse\u001b[0m => \u001b[1minitial action\u001b[0m Action.HIT\n"
            ],
            "text/html": [
              "<pre style=\"white-space:pre;overflow-x:auto;line-height:normal;font-family:Menlo,'DejaVu Sans Mono',consolas,'Courier New',monospace\"><span style=\"color: #000080; text-decoration-color: #000080; font-weight: bold\">AGENT:</span> initial total <span style=\"color: #008080; text-decoration-color: #008080; font-weight: bold\">13</span> with ACE <span style=\"color: #ff0000; text-decoration-color: #ff0000; font-style: italic\">False</span> =&gt; <span style=\"font-weight: bold\">initial action</span> Action.HIT\n",
              "</pre>\n"
            ]
          },
          "metadata": {}
        },
        {
          "output_type": "display_data",
          "data": {
            "text/plain": [
              "\u001b[1;34mAGENT:\u001b[0m turned finished - \u001b[1mBUSTED!\u001b[0m card drawn \u001b[1;36m10\u001b[0m♣ => total \u001b[1;36m23\u001b[0m with ACE \u001b[3;91mFalse\u001b[0m\n"
            ],
            "text/html": [
              "<pre style=\"white-space:pre;overflow-x:auto;line-height:normal;font-family:Menlo,'DejaVu Sans Mono',consolas,'Courier New',monospace\"><span style=\"color: #000080; text-decoration-color: #000080; font-weight: bold\">AGENT:</span> turned finished - <span style=\"font-weight: bold\">BUSTED!</span> card drawn <span style=\"color: #008080; text-decoration-color: #008080; font-weight: bold\">10</span>♣ =&gt; total <span style=\"color: #008080; text-decoration-color: #008080; font-weight: bold\">23</span> with ACE <span style=\"color: #ff0000; text-decoration-color: #ff0000; font-style: italic\">False</span>\n",
              "</pre>\n"
            ]
          },
          "metadata": {}
        },
        {
          "output_type": "execute_result",
          "data": {
            "text/plain": [
              "(None, [((13, no A, 2), HIT)])"
            ]
          },
          "metadata": {},
          "execution_count": 397
        }
      ],
      "source": [
        "# If we like, we may also require the initial state to be selected completely at random.\n",
        "# As before, the initial action is selected according to the policy\n",
        "play_turn(dealer_policy, deck, init_state=\"random\", report_callback=report_callback)"
      ]
    },
    {
      "cell_type": "code",
      "execution_count": null,
      "id": "172db472-a07e-4e15-9649-619ed7ed7193",
      "metadata": {
        "colab": {
          "base_uri": "https://localhost:8080/",
          "height": 85
        },
        "id": "172db472-a07e-4e15-9649-619ed7ed7193",
        "outputId": "951e64fe-2848-44b7-cd29-33c9be05f65d"
      },
      "outputs": [
        {
          "output_type": "display_data",
          "data": {
            "text/plain": [
              "\u001b[1;34mAGENT:\u001b[0m \u001b[1minitial state\u001b[0m \u001b[1m(\u001b[0m\u001b[1;36m4\u001b[0m, A, \u001b[1;36m6\u001b[0m\u001b[1m)\u001b[0m\n"
            ],
            "text/html": [
              "<pre style=\"white-space:pre;overflow-x:auto;line-height:normal;font-family:Menlo,'DejaVu Sans Mono',consolas,'Courier New',monospace\"><span style=\"color: #000080; text-decoration-color: #000080; font-weight: bold\">AGENT:</span> <span style=\"font-weight: bold\">initial state</span> <span style=\"font-weight: bold\">(</span><span style=\"color: #008080; text-decoration-color: #008080; font-weight: bold\">4</span>, A, <span style=\"color: #008080; text-decoration-color: #008080; font-weight: bold\">6</span><span style=\"font-weight: bold\">)</span>\n",
              "</pre>\n"
            ]
          },
          "metadata": {}
        },
        {
          "output_type": "display_data",
          "data": {
            "text/plain": [
              "\u001b[1;34mAGENT:\u001b[0m initial total \u001b[1;36m4\u001b[0m with ACE \u001b[3;92mTrue\u001b[0m => \u001b[1minitial action\u001b[0m Action.HOLD\n"
            ],
            "text/html": [
              "<pre style=\"white-space:pre;overflow-x:auto;line-height:normal;font-family:Menlo,'DejaVu Sans Mono',consolas,'Courier New',monospace\"><span style=\"color: #000080; text-decoration-color: #000080; font-weight: bold\">AGENT:</span> initial total <span style=\"color: #008080; text-decoration-color: #008080; font-weight: bold\">4</span> with ACE <span style=\"color: #00ff00; text-decoration-color: #00ff00; font-style: italic\">True</span> =&gt; <span style=\"font-weight: bold\">initial action</span> Action.HOLD\n",
              "</pre>\n"
            ]
          },
          "metadata": {}
        },
        {
          "output_type": "display_data",
          "data": {
            "text/plain": [
              "\u001b[1;34mAGENT:\u001b[0m turn finished with final total \u001b[1;36m4\u001b[0m\n"
            ],
            "text/html": [
              "<pre style=\"white-space:pre;overflow-x:auto;line-height:normal;font-family:Menlo,'DejaVu Sans Mono',consolas,'Courier New',monospace\"><span style=\"color: #000080; text-decoration-color: #000080; font-weight: bold\">AGENT:</span> turn finished with final total <span style=\"color: #008080; text-decoration-color: #008080; font-weight: bold\">4</span>\n",
              "</pre>\n"
            ]
          },
          "metadata": {}
        },
        {
          "output_type": "execute_result",
          "data": {
            "text/plain": [
              "(4, [((4, A, 6), HOLD)])"
            ]
          },
          "metadata": {},
          "execution_count": 398
        }
      ],
      "source": [
        "# We can also force both the initial state and the initial action to be selected completely randomly\n",
        "play_turn(dealer_policy, deck, init_state=\"random\", init_action=\"random\", report_callback=report_callback)"
      ]
    },
    {
      "cell_type": "markdown",
      "id": "4bceb8c8-803c-499c-8b8e-334742519838",
      "metadata": {
        "id": "4bceb8c8-803c-499c-8b8e-334742519838"
      },
      "source": [
        "## Using a Policy: Playing an Entire Game"
      ]
    },
    {
      "cell_type": "markdown",
      "id": "eaf102fe-d34e-421f-8727-6f961cdf7b5d",
      "metadata": {
        "id": "eaf102fe-d34e-421f-8727-6f961cdf7b5d"
      },
      "source": [
        "We will now implement a function that will be used to play entire games. In addition to playing the game, the function will also collect experience - tripples containing states, actions, and the total discounted return (gain) - collected during play."
      ]
    },
    {
      "cell_type": "code",
      "execution_count": null,
      "id": "e7ec80c4-eb71-490f-b182-ef5b1eabb00d",
      "metadata": {
        "id": "e7ec80c4-eb71-490f-b182-ef5b1eabb00d"
      },
      "outputs": [],
      "source": [
        "Experience = tuple[State, Action, float]"
      ]
    },
    {
      "cell_type": "markdown",
      "id": "78149085-009b-485d-ae93-937cf166852d",
      "metadata": {
        "id": "78149085-009b-485d-ae93-937cf166852d"
      },
      "source": [
        "We will first a need some auxiliary functionality that computes discounted gains from rewards."
      ]
    },
    {
      "cell_type": "code",
      "execution_count": null,
      "id": "c4d06ada-3b0e-480a-a88e-bc5536eac694",
      "metadata": {
        "id": "c4d06ada-3b0e-480a-a88e-bc5536eac694"
      },
      "outputs": [],
      "source": [
        "def compute_gain(rewards: list[float], gamma: float) -> float:\n",
        "    \"\"\"\n",
        "    Compute the total gain given the list of future rewards.\n",
        "\n",
        "    Args:\n",
        "        rewards (list[float]): List of future rewards.\n",
        "        gamma: discount factor\n",
        "\n",
        "    Return:\n",
        "        float: The total gain\n",
        "    \"\"\"\n",
        "    g = 0\n",
        "    w = 1\n",
        "    for r in rewards:\n",
        "        g += w*r\n",
        "        w *= gamma\n",
        "    return g\n",
        "\n",
        "def discounted_gains(rewards: list[float], gamma) -> list[float]:\n",
        "    \"\"\"\n",
        "    Compute list of discounted gains, given a sequence of rewards.\n",
        "\n",
        "    Args:\n",
        "        rewards (list[float]): Sequence of rewards.\n",
        "        gamma: discount factor\n",
        "\n",
        "    Return:\n",
        "        list[float]: sequence of gains\n",
        "    \"\"\"\n",
        "    gains = [compute_gain(rewards[i:], gamma) for i in range(len(rewards))]\n",
        "    return gains"
      ]
    },
    {
      "cell_type": "markdown",
      "id": "bbfcdd7d-4738-44e5-8d05-ebe761e9ded3",
      "metadata": {
        "id": "bbfcdd7d-4738-44e5-8d05-ebe761e9ded3"
      },
      "source": [
        "Let us first see how the above auxiliary functions work. When the discount factor is 1, the rewards given after the final move are copied to the preceding move without change."
      ]
    },
    {
      "cell_type": "code",
      "execution_count": null,
      "id": "6876872d-9a1e-48cb-8616-c75ddb06e8a4",
      "metadata": {
        "colab": {
          "base_uri": "https://localhost:8080/"
        },
        "id": "6876872d-9a1e-48cb-8616-c75ddb06e8a4",
        "outputId": "ae0207ca-65e3-4a65-8404-44a801d6f88e"
      },
      "outputs": [
        {
          "output_type": "execute_result",
          "data": {
            "text/plain": [
              "[1.0, 1.0, 1.0, 1]"
            ]
          },
          "metadata": {},
          "execution_count": 401
        }
      ],
      "source": [
        "rewards = [0, 0, 0, 1]\n",
        "discounted_gains(rewards, 1.0)"
      ]
    },
    {
      "cell_type": "markdown",
      "id": "226e8cfc-7372-40b9-bb22-801cf06f0232",
      "metadata": {
        "id": "226e8cfc-7372-40b9-bb22-801cf06f0232"
      },
      "source": [
        "However, if the discount factor is lower, then the earlier moves (ones further away from the final one) are given less credit for the final result"
      ]
    },
    {
      "cell_type": "code",
      "execution_count": null,
      "id": "dd0e1a0c-4695-46a5-af7a-3522d6aa99ea",
      "metadata": {
        "colab": {
          "base_uri": "https://localhost:8080/"
        },
        "id": "dd0e1a0c-4695-46a5-af7a-3522d6aa99ea",
        "outputId": "961cc3b8-593f-49b4-c2d9-58b827d14366"
      },
      "outputs": [
        {
          "output_type": "execute_result",
          "data": {
            "text/plain": [
              "[0.7290000000000001, 0.81, 0.9, 1]"
            ]
          },
          "metadata": {},
          "execution_count": 402
        }
      ],
      "source": [
        "discounted_gains(rewards, 0.9)"
      ]
    },
    {
      "cell_type": "markdown",
      "id": "9db5784b-095e-40a3-ae8d-32b392963b8e",
      "metadata": {
        "id": "9db5784b-095e-40a3-ae8d-32b392963b8e"
      },
      "source": [
        "Now we need a function which builds experience from the state-action pairs encountered during a single turn."
      ]
    },
    {
      "cell_type": "code",
      "execution_count": null,
      "id": "63c79136-1fd5-4a88-90dc-3ae8ed06537f",
      "metadata": {
        "id": "63c79136-1fd5-4a88-90dc-3ae8ed06537f"
      },
      "outputs": [],
      "source": [
        "def build_experience(turn_log: TurnLog, result: int, gamma) -> Experience:\n",
        "    \"\"\"\n",
        "    Compute experience from the turn log (list of state-action pairs) and the final result.\n",
        "\n",
        "    Args:\n",
        "        turn_log (TurnLog): List of state-action pairs encountered during single gameplay\n",
        "        result (int): Final result of the game.\n",
        "\n",
        "    Return:\n",
        "        Experience: List of state-action-gain triples corresponding to every state-action pair encountered during a game.\n",
        "    \"\"\"\n",
        "    rewards = [0 for _ in turn_log]\n",
        "    rewards[-1] = result\n",
        "    gains = discounted_gains(rewards, gamma)\n",
        "    exp = [(s, a, g) for (s, a), g in zip(turn_log, gains)]\n",
        "    return exp"
      ]
    },
    {
      "cell_type": "markdown",
      "id": "b9a0bab0-c885-4e65-a99c-444777807fbf",
      "metadata": {
        "id": "b9a0bab0-c885-4e65-a99c-444777807fbf"
      },
      "source": [
        "We are now ready to actually implement the function to play games...\n",
        "\n",
        "Note that we have three distinct callback functions: one for the player, one for the dealer, and one for the game engine itself. This may seem excessive, but it will enable us to nicely track what is going on within a single game!"
      ]
    },
    {
      "cell_type": "code",
      "execution_count": null,
      "id": "37d7898b-793d-426e-bb67-dbd73e04f07d",
      "metadata": {
        "id": "37d7898b-793d-426e-bb67-dbd73e04f07d"
      },
      "outputs": [],
      "source": [
        "def play_game(policy: Policy,\n",
        "              deck: CardDeck,\n",
        "              init_state: State | str | None = None,\n",
        "              init_action: Action | str | None = None,\n",
        "              gamma : float = 1.0,\n",
        "              game_report_callback: ReportCallback | None = None,\n",
        "              player_report_callback: ReportCallback | None = None,\n",
        "              dealer_report_callback: ReportCallback | None = None) -> tuple[int, Experience]:\n",
        "    \"\"\"A single game of Blackjack, played with the given policy.\n",
        "\n",
        "    Args:\n",
        "        policy (Policy): the decision policy to use during gameplay\n",
        "        init_state (State | str | None): specification of the initial state, see `get_init_state`\n",
        "        init_action (Action | str | None): specification of the initial action, see `get_init_action`\n",
        "        gamma (float): discount factor\n",
        "        game_report_callback (ReportCallback | None): report callback used for the events generated by the game \"engine\"\n",
        "        player_report_callback (ReportCallback | None): report callback used for the player actions\n",
        "        dealer_report_callback (ReportCallback | None): report callback used for the dealer actions\n",
        "\n",
        "    Return:\n",
        "        int: The result of the game: +1 for win, 0 for draw, -1 for loss\n",
        "        Experience: experience accumulated during the game\n",
        "    \"\"\"\n",
        "    report = lambda txt: game_report_callback and game_report_callback(txt)\n",
        "\n",
        "    # Draw initial cards for the player and dealer\n",
        "    player_cards = [deck.draw(), deck.draw()] # Ovde se odmah dele 2 karte igraču\n",
        "    dealer_cards = [deck.draw(), deck.draw()]  # Ovde se odmah dele 2 karte dileru, ali samo prva je vidljiva igraču\n",
        "\n",
        "    # Initial state for the player\n",
        "    player_total = sum(card.value.value for card in player_cards)\n",
        "    player_has_ace = any(card.value == CardValue.ACE for card in player_cards)\n",
        "\n",
        "    # Initial state for the dealer (with one card visible)\n",
        "    dealer_visible_card = dealer_cards[0]\n",
        "    dealer_total = dealer_visible_card.value.value\n",
        "    dealer_has_ace = dealer_total == 11  # Ace is considered as 11 if it's the visible card\n",
        "\n",
        "    state = State(player_total, player_has_ace, dealer_total)\n",
        "    action = get_init_action(init_action, state, policy)\n",
        "\n",
        "    report(f\"[bold]Initial state[/]: Player total {player_total} with {'A' if player_has_ace else 'no A'}, Dealer visible card {dealer_visible_card}\")\n",
        "    report(f\"Initial action: {action}\")\n",
        "\n",
        "    # Log the initial state and action\n",
        "    turn_log = [(state, action)]\n",
        "\n",
        "    # Play the player's turn\n",
        "    while action == Action.HIT:\n",
        "        card = deck.draw()\n",
        "        player_total, player_has_ace = update_total(player_total, player_has_ace, card.value)\n",
        "        state = State(player_total, player_has_ace, dealer_total)\n",
        "\n",
        "        if player_total > 21:\n",
        "            report(f\"Player busted with total {player_total}\")\n",
        "            return -1, turn_log\n",
        "        else:\n",
        "            action = policy(state)\n",
        "            turn_log.append((state, action))\n",
        "            report(f\"Player drew {card}: total {player_total} with {'A' if player_has_ace else 'no A'}, action chosen: {action}\")\n",
        "\n",
        "    # Play the dealer's turn\n",
        "    while dealer_total < 17:\n",
        "        card = deck.draw()\n",
        "        dealer_total, dealer_has_ace = update_total(dealer_total, dealer_has_ace, card.value)\n",
        "\n",
        "    # Determine the result of the game\n",
        "    if player_total > 21:\n",
        "        result = -1\n",
        "    elif dealer_total > 21 or player_total > dealer_total:\n",
        "        result = 1\n",
        "    elif player_total == dealer_total:\n",
        "        result = 0\n",
        "    else:\n",
        "        result = -1\n",
        "\n",
        "    # Build experience\n",
        "    exp = build_experience(turn_log, result, gamma)\n",
        "\n",
        "    # Report game result\n",
        "    if result == 1:\n",
        "        report(\"Player WINS\")\n",
        "    elif result == 0:\n",
        "        report(\"Game DRAW\")\n",
        "    else:\n",
        "        report(\"Player LOSES\")\n",
        "\n",
        "    return result, exp\n"
      ]
    },
    {
      "cell_type": "markdown",
      "id": "beb19c52-1994-4bbb-91bd-f6f81fa25f74",
      "metadata": {
        "id": "beb19c52-1994-4bbb-91bd-f6f81fa25f74"
      },
      "source": [
        "In order to test the last function, let us define some handy report callbacks. We will use prefixes and color-coding to nicely highlight reports from different \"actors\" (player, dealer, and the game \"engine\" itself)."
      ]
    },
    {
      "cell_type": "code",
      "execution_count": null,
      "id": "ecdb58ff-815b-42e5-8f5f-970ff80b7aa6",
      "metadata": {
        "id": "ecdb58ff-815b-42e5-8f5f-970ff80b7aa6"
      },
      "outputs": [],
      "source": [
        "player_report_callback = lambda txt: print(f\"[bold blue]PLAYER:[/] {txt}\")\n",
        "dealer_report_callback = lambda txt: print(f\"[bold cyan]DEALER:[/] {txt}\")\n",
        "game_report_callback = lambda txt: print(f\"[bold red]{txt}[/]\")\n",
        "\n",
        "callbacks = {\n",
        "    \"player_report_callback\": player_report_callback,\n",
        "    \"dealer_report_callback\": dealer_report_callback,\n",
        "    \"game_report_callback\": game_report_callback\n",
        "}"
      ]
    },
    {
      "cell_type": "markdown",
      "id": "8ebf0df4-3d33-494f-b3ff-6d45a1fd786a",
      "metadata": {
        "id": "8ebf0df4-3d33-494f-b3ff-6d45a1fd786a"
      },
      "source": [
        "Let us play a bit with the two above-defined policies. Later we will show that the dealer policy is considerably more meaningfull than the random one (as expected!)"
      ]
    },
    {
      "cell_type": "markdown",
      "id": "c37bab7c-cca3-4a52-b9d2-46b0cd858410",
      "metadata": {
        "id": "c37bab7c-cca3-4a52-b9d2-46b0cd858410"
      },
      "source": [
        "Notice the manner in which the callback are passed to the `play_game` function. We first collect them into a dictionary where the keys are strings equal to the corresponding keyword parameter names of the `play_game` function. The values are the callback themselves. The syntax `**callbacks` (the leading `**`) \"unpacks\" this dictionary into sequence of key-value pairs which are given to the `play_game` function as named parameters."
      ]
    },
    {
      "cell_type": "code",
      "execution_count": null,
      "id": "53bb5df3-1ba6-434d-9702-1100c687aedc",
      "metadata": {
        "colab": {
          "base_uri": "https://localhost:8080/",
          "height": 204
        },
        "id": "53bb5df3-1ba6-434d-9702-1100c687aedc",
        "outputId": "2302be91-e46f-4a7c-bdaa-86842a3bb631"
      },
      "outputs": [
        {
          "output_type": "display_data",
          "data": {
            "text/plain": [
              "\u001b[1;31mInitial state\u001b[0m\u001b[1;31m: Player total \u001b[0m\u001b[1;31m11\u001b[0m\u001b[1;31m with no A, Dealer visible card \u001b[0m\u001b[1;31m3\u001b[0m\u001b[1;31m♣\u001b[0m\n"
            ],
            "text/html": [
              "<pre style=\"white-space:pre;overflow-x:auto;line-height:normal;font-family:Menlo,'DejaVu Sans Mono',consolas,'Courier New',monospace\"><span style=\"color: #800000; text-decoration-color: #800000; font-weight: bold\">Initial state: Player total </span><span style=\"color: #800000; text-decoration-color: #800000; font-weight: bold\">11</span><span style=\"color: #800000; text-decoration-color: #800000; font-weight: bold\"> with no A, Dealer visible card </span><span style=\"color: #800000; text-decoration-color: #800000; font-weight: bold\">3</span><span style=\"color: #800000; text-decoration-color: #800000; font-weight: bold\">♣</span>\n",
              "</pre>\n"
            ]
          },
          "metadata": {}
        },
        {
          "output_type": "display_data",
          "data": {
            "text/plain": [
              "\u001b[1;31mInitial action: Action.HIT\u001b[0m\n"
            ],
            "text/html": [
              "<pre style=\"white-space:pre;overflow-x:auto;line-height:normal;font-family:Menlo,'DejaVu Sans Mono',consolas,'Courier New',monospace\"><span style=\"color: #800000; text-decoration-color: #800000; font-weight: bold\">Initial action: Action.HIT</span>\n",
              "</pre>\n"
            ]
          },
          "metadata": {}
        },
        {
          "output_type": "display_data",
          "data": {
            "text/plain": [
              "\u001b[1;31mPlayer drew A♥: total \u001b[0m\u001b[1;31m12\u001b[0m\u001b[1;31m with no A, action chosen: Action.HIT\u001b[0m\n"
            ],
            "text/html": [
              "<pre style=\"white-space:pre;overflow-x:auto;line-height:normal;font-family:Menlo,'DejaVu Sans Mono',consolas,'Courier New',monospace\"><span style=\"color: #800000; text-decoration-color: #800000; font-weight: bold\">Player drew A♥: total </span><span style=\"color: #800000; text-decoration-color: #800000; font-weight: bold\">12</span><span style=\"color: #800000; text-decoration-color: #800000; font-weight: bold\"> with no A, action chosen: Action.HIT</span>\n",
              "</pre>\n"
            ]
          },
          "metadata": {}
        },
        {
          "output_type": "display_data",
          "data": {
            "text/plain": [
              "\u001b[1;31mPlayer drew \u001b[0m\u001b[1;31m7\u001b[0m\u001b[1;31m♣: total \u001b[0m\u001b[1;31m19\u001b[0m\u001b[1;31m with no A, action chosen: Action.HIT\u001b[0m\n"
            ],
            "text/html": [
              "<pre style=\"white-space:pre;overflow-x:auto;line-height:normal;font-family:Menlo,'DejaVu Sans Mono',consolas,'Courier New',monospace\"><span style=\"color: #800000; text-decoration-color: #800000; font-weight: bold\">Player drew </span><span style=\"color: #800000; text-decoration-color: #800000; font-weight: bold\">7</span><span style=\"color: #800000; text-decoration-color: #800000; font-weight: bold\">♣: total </span><span style=\"color: #800000; text-decoration-color: #800000; font-weight: bold\">19</span><span style=\"color: #800000; text-decoration-color: #800000; font-weight: bold\"> with no A, action chosen: Action.HIT</span>\n",
              "</pre>\n"
            ]
          },
          "metadata": {}
        },
        {
          "output_type": "display_data",
          "data": {
            "text/plain": [
              "\u001b[1;31mPlayer drew A♠: total \u001b[0m\u001b[1;31m20\u001b[0m\u001b[1;31m with no A, action chosen: Action.HOLD\u001b[0m\n"
            ],
            "text/html": [
              "<pre style=\"white-space:pre;overflow-x:auto;line-height:normal;font-family:Menlo,'DejaVu Sans Mono',consolas,'Courier New',monospace\"><span style=\"color: #800000; text-decoration-color: #800000; font-weight: bold\">Player drew A♠: total </span><span style=\"color: #800000; text-decoration-color: #800000; font-weight: bold\">20</span><span style=\"color: #800000; text-decoration-color: #800000; font-weight: bold\"> with no A, action chosen: Action.HOLD</span>\n",
              "</pre>\n"
            ]
          },
          "metadata": {}
        },
        {
          "output_type": "display_data",
          "data": {
            "text/plain": [
              "\u001b[1;31mGame DRAW\u001b[0m\n"
            ],
            "text/html": [
              "<pre style=\"white-space:pre;overflow-x:auto;line-height:normal;font-family:Menlo,'DejaVu Sans Mono',consolas,'Courier New',monospace\"><span style=\"color: #800000; text-decoration-color: #800000; font-weight: bold\">Game DRAW</span>\n",
              "</pre>\n"
            ]
          },
          "metadata": {}
        },
        {
          "output_type": "execute_result",
          "data": {
            "text/plain": [
              "(0,\n",
              " [((11, no A, 3), HIT, 0.0),\n",
              "  ((12, no A, 3), HIT, 0.0),\n",
              "  ((19, no A, 3), HIT, 0.0),\n",
              "  ((20, no A, 3), HOLD, 0)])"
            ]
          },
          "metadata": {},
          "execution_count": 406
        }
      ],
      "source": [
        "# Playing the game using the random policy\n",
        "play_game(random_policy, deck, **callbacks)"
      ]
    },
    {
      "cell_type": "code",
      "execution_count": null,
      "id": "41708643-0777-486b-b710-f8039878da40",
      "metadata": {
        "colab": {
          "base_uri": "https://localhost:8080/",
          "height": 85
        },
        "id": "41708643-0777-486b-b710-f8039878da40",
        "outputId": "bd8ae6fa-e6d6-42f8-81cc-7e22372f09a0"
      },
      "outputs": [
        {
          "output_type": "display_data",
          "data": {
            "text/plain": [
              "\u001b[1;31mInitial state\u001b[0m\u001b[1;31m: Player total \u001b[0m\u001b[1;31m14\u001b[0m\u001b[1;31m with no A, Dealer visible card \u001b[0m\u001b[1;31m8\u001b[0m\u001b[1;31m♣\u001b[0m\n"
            ],
            "text/html": [
              "<pre style=\"white-space:pre;overflow-x:auto;line-height:normal;font-family:Menlo,'DejaVu Sans Mono',consolas,'Courier New',monospace\"><span style=\"color: #800000; text-decoration-color: #800000; font-weight: bold\">Initial state: Player total </span><span style=\"color: #800000; text-decoration-color: #800000; font-weight: bold\">14</span><span style=\"color: #800000; text-decoration-color: #800000; font-weight: bold\"> with no A, Dealer visible card </span><span style=\"color: #800000; text-decoration-color: #800000; font-weight: bold\">8</span><span style=\"color: #800000; text-decoration-color: #800000; font-weight: bold\">♣</span>\n",
              "</pre>\n"
            ]
          },
          "metadata": {}
        },
        {
          "output_type": "display_data",
          "data": {
            "text/plain": [
              "\u001b[1;31mInitial action: Action.HIT\u001b[0m\n"
            ],
            "text/html": [
              "<pre style=\"white-space:pre;overflow-x:auto;line-height:normal;font-family:Menlo,'DejaVu Sans Mono',consolas,'Courier New',monospace\"><span style=\"color: #800000; text-decoration-color: #800000; font-weight: bold\">Initial action: Action.HIT</span>\n",
              "</pre>\n"
            ]
          },
          "metadata": {}
        },
        {
          "output_type": "display_data",
          "data": {
            "text/plain": [
              "\u001b[1;31mPlayer busted with total \u001b[0m\u001b[1;31m23\u001b[0m\n"
            ],
            "text/html": [
              "<pre style=\"white-space:pre;overflow-x:auto;line-height:normal;font-family:Menlo,'DejaVu Sans Mono',consolas,'Courier New',monospace\"><span style=\"color: #800000; text-decoration-color: #800000; font-weight: bold\">Player busted with total </span><span style=\"color: #800000; text-decoration-color: #800000; font-weight: bold\">23</span>\n",
              "</pre>\n"
            ]
          },
          "metadata": {}
        },
        {
          "output_type": "execute_result",
          "data": {
            "text/plain": [
              "(-1, [((14, no A, 8), HIT)])"
            ]
          },
          "metadata": {},
          "execution_count": 407
        }
      ],
      "source": [
        "# Playing the game using the dealer policy\n",
        "play_game(dealer_policy, deck, **callbacks)"
      ]
    },
    {
      "cell_type": "markdown",
      "id": "a96a2a19-8ad1-4e39-b8b6-883c9e9bab62",
      "metadata": {
        "id": "a96a2a19-8ad1-4e39-b8b6-883c9e9bab62"
      },
      "source": [
        "Finally, let us define a function that will enable us to apply (and test) different policies. This function will play many games, collect experience and compute the ratio of wins, draws, and losses.\n",
        "\n",
        "But first, we must define **experience** more precisely! Experience is a list of states, actions and gains seen during playtime. In otherwords, to each state-action pair seen in each turn we must associate the total gain received during that game from this point on (possibly discounted by a suitable discount factor - $\\gamma$)"
      ]
    },
    {
      "cell_type": "code",
      "execution_count": null,
      "id": "093af35c-d25c-454b-965d-e44a31dbb46f",
      "metadata": {
        "id": "093af35c-d25c-454b-965d-e44a31dbb46f"
      },
      "outputs": [],
      "source": [
        "@dataclass\n",
        "class PolicyTestingResult:\n",
        "    games_no: int\n",
        "    score: int\n",
        "    wins: float\n",
        "    draws: float\n",
        "    losses: float\n",
        "\n",
        "    def loss_per_game(self):\n",
        "        \"\"\"Average loss per game.\"\"\"\n",
        "        return self.score/self.games_no\n",
        "\n",
        "    def __repr__(self):\n",
        "        return f\"total score={self.score}/{self.games_no} games ({self.loss_per_game():.4f} per game) :: W {self.wins*100:.2f}% | D {self.draws*100:.2f}% | L {self.losses*100:.2f}%\""
      ]
    },
    {
      "cell_type": "markdown",
      "id": "7930579c-9cb1-4050-bcbe-bb548f4574e6",
      "metadata": {
        "id": "7930579c-9cb1-4050-bcbe-bb548f4574e6"
      },
      "source": [
        "We will make two different methods for evaluating policies. The first one chooses initial states and actions randomly in each run. The second one repeatedly enumerates through all possible states and all possible actions, and uses all possible combinations of the initial state-action pair. The enumerated version is possible only because the number of states in (this version of) Blackjack is not high."
      ]
    },
    {
      "cell_type": "code",
      "execution_count": null,
      "id": "ab3df463-1b99-4625-ab3f-158c25747fda",
      "metadata": {
        "id": "ab3df463-1b99-4625-ab3f-158c25747fda"
      },
      "outputs": [],
      "source": [
        "def apply_policy(policy: Policy, deck: CardDeck, games_no=1000, gamma=1, random_init_state=False, random_init_action=False) -> tuple[PolicyTestingResult, Experience]:\n",
        "    wins, losses, draws, score = 0, 0, 0, 0\n",
        "    init_action = \"random\" if random_init_action else None\n",
        "    init_state = \"random\" if random_init_state else None\n",
        "    experience = []\n",
        "    for k in range(games_no):\n",
        "        res, exp = play_game(policy, deck, gamma=gamma, init_state=init_state, init_action=init_action)\n",
        "        score += res\n",
        "        experience.extend(exp)\n",
        "        if res == 1:\n",
        "            wins += 1\n",
        "        elif res == 0:\n",
        "            draws += 1\n",
        "        else:\n",
        "            losses += 1\n",
        "    return PolicyTestingResult(games_no, score, wins/games_no, draws/games_no, losses/games_no), experience\n"
      ]
    },
    {
      "cell_type": "markdown",
      "id": "af187070-da8f-493c-a4d8-d27e0da30a36",
      "metadata": {
        "id": "af187070-da8f-493c-a4d8-d27e0da30a36"
      },
      "source": [
        "Let us test the above function by playing just five games, to see what kind of objects it returns. The actual tests require many more games to be played, and this will be done shortly after..."
      ]
    },
    {
      "cell_type": "code",
      "execution_count": null,
      "id": "4df102e5-324b-499d-bbb2-5e470c28cd38",
      "metadata": {
        "colab": {
          "base_uri": "https://localhost:8080/",
          "height": 251
        },
        "id": "4df102e5-324b-499d-bbb2-5e470c28cd38",
        "outputId": "f68ae320-0eed-47d0-f4b5-20e7f03e112a"
      },
      "outputs": [
        {
          "output_type": "display_data",
          "data": {
            "text/plain": [
              "\u001b[1m(\u001b[0m\n",
              "    total \u001b[33mscore\u001b[0m=\u001b[1;36m-1\u001b[0m/\u001b[1;36m5\u001b[0m games \u001b[1m(\u001b[0m\u001b[1;36m-0.2000\u001b[0m per game\u001b[1m)\u001b[0m :: W \u001b[1;36m40.00\u001b[0m% | D \u001b[1;36m0.00\u001b[0m% | L \u001b[1;36m60.00\u001b[0m%,\n",
              "    \u001b[1m[\u001b[0m\n",
              "        \u001b[1m(\u001b[0m\u001b[1m(\u001b[0m\u001b[1;36m11\u001b[0m, A, \u001b[1;36m2\u001b[0m\u001b[1m)\u001b[0m, HIT, \u001b[1;36m-0.7290000000000001\u001b[0m\u001b[1m)\u001b[0m,\n",
              "        \u001b[1m(\u001b[0m\u001b[1m(\u001b[0m\u001b[1;36m19\u001b[0m, A, \u001b[1;36m2\u001b[0m\u001b[1m)\u001b[0m, HIT, \u001b[1;36m-0.81\u001b[0m\u001b[1m)\u001b[0m,\n",
              "        \u001b[1m(\u001b[0m\u001b[1m(\u001b[0m\u001b[1;36m16\u001b[0m, no A, \u001b[1;36m2\u001b[0m\u001b[1m)\u001b[0m, HIT, \u001b[1;36m-0.9\u001b[0m\u001b[1m)\u001b[0m,\n",
              "        \u001b[1m(\u001b[0m\u001b[1m(\u001b[0m\u001b[1;36m18\u001b[0m, no A, \u001b[1;36m2\u001b[0m\u001b[1m)\u001b[0m, HOLD, \u001b[1;36m-1\u001b[0m\u001b[1m)\u001b[0m,\n",
              "        \u001b[1m(\u001b[0m\u001b[1m(\u001b[0m\u001b[1;36m16\u001b[0m, no A, \u001b[1;36m6\u001b[0m\u001b[1m)\u001b[0m, HOLD, \u001b[1;36m-1\u001b[0m\u001b[1m)\u001b[0m,\n",
              "        \u001b[1m(\u001b[0m\u001b[1m(\u001b[0m\u001b[1;36m11\u001b[0m, no A, \u001b[1;36m4\u001b[0m\u001b[1m)\u001b[0m, HOLD, \u001b[1;36m-1\u001b[0m\u001b[1m)\u001b[0m,\n",
              "        \u001b[1m(\u001b[0m\u001b[1m(\u001b[0m\u001b[1;36m12\u001b[0m, no A, \u001b[1;36m3\u001b[0m\u001b[1m)\u001b[0m, HOLD, \u001b[1;36m1\u001b[0m\u001b[1m)\u001b[0m,\n",
              "        \u001b[1m(\u001b[0m\u001b[1m(\u001b[0m\u001b[1;36m14\u001b[0m, no A, \u001b[1;36m3\u001b[0m\u001b[1m)\u001b[0m, HIT, \u001b[1;36m0.9\u001b[0m\u001b[1m)\u001b[0m,\n",
              "        \u001b[1m(\u001b[0m\u001b[1m(\u001b[0m\u001b[1;36m19\u001b[0m, no A, \u001b[1;36m3\u001b[0m\u001b[1m)\u001b[0m, HOLD, \u001b[1;36m1\u001b[0m\u001b[1m)\u001b[0m\n",
              "    \u001b[1m]\u001b[0m\n",
              "\u001b[1m)\u001b[0m\n"
            ],
            "text/html": [
              "<pre style=\"white-space:pre;overflow-x:auto;line-height:normal;font-family:Menlo,'DejaVu Sans Mono',consolas,'Courier New',monospace\"><span style=\"font-weight: bold\">(</span>\n",
              "    total <span style=\"color: #808000; text-decoration-color: #808000\">score</span>=<span style=\"color: #008080; text-decoration-color: #008080; font-weight: bold\">-1</span>/<span style=\"color: #008080; text-decoration-color: #008080; font-weight: bold\">5</span> games <span style=\"font-weight: bold\">(</span><span style=\"color: #008080; text-decoration-color: #008080; font-weight: bold\">-0.2000</span> per game<span style=\"font-weight: bold\">)</span> :: W <span style=\"color: #008080; text-decoration-color: #008080; font-weight: bold\">40.00</span>% | D <span style=\"color: #008080; text-decoration-color: #008080; font-weight: bold\">0.00</span>% | L <span style=\"color: #008080; text-decoration-color: #008080; font-weight: bold\">60.00</span>%,\n",
              "    <span style=\"font-weight: bold\">[</span>\n",
              "        <span style=\"font-weight: bold\">((</span><span style=\"color: #008080; text-decoration-color: #008080; font-weight: bold\">11</span>, A, <span style=\"color: #008080; text-decoration-color: #008080; font-weight: bold\">2</span><span style=\"font-weight: bold\">)</span>, HIT, <span style=\"color: #008080; text-decoration-color: #008080; font-weight: bold\">-0.7290000000000001</span><span style=\"font-weight: bold\">)</span>,\n",
              "        <span style=\"font-weight: bold\">((</span><span style=\"color: #008080; text-decoration-color: #008080; font-weight: bold\">19</span>, A, <span style=\"color: #008080; text-decoration-color: #008080; font-weight: bold\">2</span><span style=\"font-weight: bold\">)</span>, HIT, <span style=\"color: #008080; text-decoration-color: #008080; font-weight: bold\">-0.81</span><span style=\"font-weight: bold\">)</span>,\n",
              "        <span style=\"font-weight: bold\">((</span><span style=\"color: #008080; text-decoration-color: #008080; font-weight: bold\">16</span>, no A, <span style=\"color: #008080; text-decoration-color: #008080; font-weight: bold\">2</span><span style=\"font-weight: bold\">)</span>, HIT, <span style=\"color: #008080; text-decoration-color: #008080; font-weight: bold\">-0.9</span><span style=\"font-weight: bold\">)</span>,\n",
              "        <span style=\"font-weight: bold\">((</span><span style=\"color: #008080; text-decoration-color: #008080; font-weight: bold\">18</span>, no A, <span style=\"color: #008080; text-decoration-color: #008080; font-weight: bold\">2</span><span style=\"font-weight: bold\">)</span>, HOLD, <span style=\"color: #008080; text-decoration-color: #008080; font-weight: bold\">-1</span><span style=\"font-weight: bold\">)</span>,\n",
              "        <span style=\"font-weight: bold\">((</span><span style=\"color: #008080; text-decoration-color: #008080; font-weight: bold\">16</span>, no A, <span style=\"color: #008080; text-decoration-color: #008080; font-weight: bold\">6</span><span style=\"font-weight: bold\">)</span>, HOLD, <span style=\"color: #008080; text-decoration-color: #008080; font-weight: bold\">-1</span><span style=\"font-weight: bold\">)</span>,\n",
              "        <span style=\"font-weight: bold\">((</span><span style=\"color: #008080; text-decoration-color: #008080; font-weight: bold\">11</span>, no A, <span style=\"color: #008080; text-decoration-color: #008080; font-weight: bold\">4</span><span style=\"font-weight: bold\">)</span>, HOLD, <span style=\"color: #008080; text-decoration-color: #008080; font-weight: bold\">-1</span><span style=\"font-weight: bold\">)</span>,\n",
              "        <span style=\"font-weight: bold\">((</span><span style=\"color: #008080; text-decoration-color: #008080; font-weight: bold\">12</span>, no A, <span style=\"color: #008080; text-decoration-color: #008080; font-weight: bold\">3</span><span style=\"font-weight: bold\">)</span>, HOLD, <span style=\"color: #008080; text-decoration-color: #008080; font-weight: bold\">1</span><span style=\"font-weight: bold\">)</span>,\n",
              "        <span style=\"font-weight: bold\">((</span><span style=\"color: #008080; text-decoration-color: #008080; font-weight: bold\">14</span>, no A, <span style=\"color: #008080; text-decoration-color: #008080; font-weight: bold\">3</span><span style=\"font-weight: bold\">)</span>, HIT, <span style=\"color: #008080; text-decoration-color: #008080; font-weight: bold\">0.9</span><span style=\"font-weight: bold\">)</span>,\n",
              "        <span style=\"font-weight: bold\">((</span><span style=\"color: #008080; text-decoration-color: #008080; font-weight: bold\">19</span>, no A, <span style=\"color: #008080; text-decoration-color: #008080; font-weight: bold\">3</span><span style=\"font-weight: bold\">)</span>, HOLD, <span style=\"color: #008080; text-decoration-color: #008080; font-weight: bold\">1</span><span style=\"font-weight: bold\">)</span>\n",
              "    <span style=\"font-weight: bold\">]</span>\n",
              "<span style=\"font-weight: bold\">)</span>\n",
              "</pre>\n"
            ]
          },
          "metadata": {}
        }
      ],
      "source": [
        "res = apply_policy(random_policy, deck, 5, gamma=0.9)\n",
        "print(res)"
      ]
    },
    {
      "cell_type": "markdown",
      "id": "7fdb48d4-cd5a-46ee-855b-892110bb330a",
      "metadata": {
        "id": "7fdb48d4-cd5a-46ee-855b-892110bb330a"
      },
      "source": [
        "## Comparative Performance of the Random and Dealer's Policy (when used by the Player)"
      ]
    },
    {
      "cell_type": "markdown",
      "id": "da7c893c-3a94-471e-9d68-57129d4db9c5",
      "metadata": {
        "id": "da7c893c-3a94-471e-9d68-57129d4db9c5"
      },
      "source": [
        "Now, we are ready to perform the actual testing. We will test both previously defined policies: the purely explorative random policy and (as we will soon see: near optimal) dealer's policy. The measurement will be performed by both previously defined functions."
      ]
    },
    {
      "cell_type": "code",
      "execution_count": null,
      "id": "1cdb83f5-617e-41f7-96d2-9ca776d776cb",
      "metadata": {
        "colab": {
          "base_uri": "https://localhost:8080/",
          "height": 34
        },
        "id": "1cdb83f5-617e-41f7-96d2-9ca776d776cb",
        "outputId": "888fde89-d4c1-4671-bb78-eb63b89ec702"
      },
      "outputs": [
        {
          "output_type": "display_data",
          "data": {
            "text/plain": [
              "total \u001b[33mscore\u001b[0m=\u001b[1;36m-4772\u001b[0m/\u001b[1;36m10000\u001b[0m games \u001b[1m(\u001b[0m\u001b[1;36m-0.4772\u001b[0m per game\u001b[1m)\u001b[0m :: W \u001b[1;36m24.78\u001b[0m% | D \u001b[1;36m2.72\u001b[0m% | L \u001b[1;36m72.50\u001b[0m%\n"
            ],
            "text/html": [
              "<pre style=\"white-space:pre;overflow-x:auto;line-height:normal;font-family:Menlo,'DejaVu Sans Mono',consolas,'Courier New',monospace\">total <span style=\"color: #808000; text-decoration-color: #808000\">score</span>=<span style=\"color: #008080; text-decoration-color: #008080; font-weight: bold\">-4772</span>/<span style=\"color: #008080; text-decoration-color: #008080; font-weight: bold\">10000</span> games <span style=\"font-weight: bold\">(</span><span style=\"color: #008080; text-decoration-color: #008080; font-weight: bold\">-0.4772</span> per game<span style=\"font-weight: bold\">)</span> :: W <span style=\"color: #008080; text-decoration-color: #008080; font-weight: bold\">24.78</span>% | D <span style=\"color: #008080; text-decoration-color: #008080; font-weight: bold\">2.72</span>% | L <span style=\"color: #008080; text-decoration-color: #008080; font-weight: bold\">72.50</span>%\n",
              "</pre>\n"
            ]
          },
          "metadata": {}
        }
      ],
      "source": [
        "res, _ = apply_policy(random_policy, deck, 10000)\n",
        "print(res)"
      ]
    },
    {
      "cell_type": "code",
      "execution_count": null,
      "id": "4255bf55-26c2-4979-8ecb-e08e121514ea",
      "metadata": {
        "colab": {
          "base_uri": "https://localhost:8080/",
          "height": 34
        },
        "id": "4255bf55-26c2-4979-8ecb-e08e121514ea",
        "outputId": "2f71fe62-7e7a-4e54-dc17-580edccc922f"
      },
      "outputs": [
        {
          "output_type": "display_data",
          "data": {
            "text/plain": [
              "total \u001b[33mscore\u001b[0m=\u001b[1;36m-485\u001b[0m/\u001b[1;36m10000\u001b[0m games \u001b[1m(\u001b[0m\u001b[1;36m-0.0485\u001b[0m per game\u001b[1m)\u001b[0m :: W \u001b[1;36m41.72\u001b[0m% | D \u001b[1;36m11.71\u001b[0m% | L \u001b[1;36m46.57\u001b[0m%\n"
            ],
            "text/html": [
              "<pre style=\"white-space:pre;overflow-x:auto;line-height:normal;font-family:Menlo,'DejaVu Sans Mono',consolas,'Courier New',monospace\">total <span style=\"color: #808000; text-decoration-color: #808000\">score</span>=<span style=\"color: #008080; text-decoration-color: #008080; font-weight: bold\">-485</span>/<span style=\"color: #008080; text-decoration-color: #008080; font-weight: bold\">10000</span> games <span style=\"font-weight: bold\">(</span><span style=\"color: #008080; text-decoration-color: #008080; font-weight: bold\">-0.0485</span> per game<span style=\"font-weight: bold\">)</span> :: W <span style=\"color: #008080; text-decoration-color: #008080; font-weight: bold\">41.72</span>% | D <span style=\"color: #008080; text-decoration-color: #008080; font-weight: bold\">11.71</span>% | L <span style=\"color: #008080; text-decoration-color: #008080; font-weight: bold\">46.57</span>%\n",
              "</pre>\n"
            ]
          },
          "metadata": {}
        }
      ],
      "source": [
        "res, _ = apply_policy(dealer_policy, deck, 10000)\n",
        "print(res)"
      ]
    },
    {
      "cell_type": "markdown",
      "id": "e58a5402-7426-4d6f-b12c-c708d749f229",
      "metadata": {
        "id": "e58a5402-7426-4d6f-b12c-c708d749f229"
      },
      "source": [
        "We see that the player using the same strategy as the dealer losses (roughly) about 0.08 \"points\" per game (the actual number varies since this is a stochastic game). It losses only slightly below 50% of the time, but manages to win in only slightly above 40% of the cases. The difference in gains between the actual dealer and the player acting as a dealer is due to the inherent assymetry of the game, and the fact that the dealer plays second, only after the player ended its turn, and only if the player is not busted!\n",
        "\n",
        "The above testing was performed using natural init state (the one obtained by drawing cards from the deck). Similar behavior may be observed when testing with completely random init state. In this way, however, we seem to observe a slightly better performance of the dealer's strategy (but also a slight improvement of the performance of the random strategy). The reason seems to be that in this way, there is some probability for the player to be \"teleported\" into a favorable initial state."
      ]
    },
    {
      "cell_type": "code",
      "execution_count": null,
      "id": "d9c1a6c8-c3a6-491f-8406-db37862ffcd5",
      "metadata": {
        "colab": {
          "base_uri": "https://localhost:8080/",
          "height": 34
        },
        "id": "d9c1a6c8-c3a6-491f-8406-db37862ffcd5",
        "outputId": "bd868e34-234a-41d8-aec1-3c9a124c7b58"
      },
      "outputs": [
        {
          "output_type": "display_data",
          "data": {
            "text/plain": [
              "total \u001b[33mscore\u001b[0m=\u001b[1;36m-4719\u001b[0m/\u001b[1;36m10000\u001b[0m games \u001b[1m(\u001b[0m\u001b[1;36m-0.4719\u001b[0m per game\u001b[1m)\u001b[0m :: W \u001b[1;36m24.96\u001b[0m% | D \u001b[1;36m2.89\u001b[0m% | L \u001b[1;36m72.15\u001b[0m%\n"
            ],
            "text/html": [
              "<pre style=\"white-space:pre;overflow-x:auto;line-height:normal;font-family:Menlo,'DejaVu Sans Mono',consolas,'Courier New',monospace\">total <span style=\"color: #808000; text-decoration-color: #808000\">score</span>=<span style=\"color: #008080; text-decoration-color: #008080; font-weight: bold\">-4719</span>/<span style=\"color: #008080; text-decoration-color: #008080; font-weight: bold\">10000</span> games <span style=\"font-weight: bold\">(</span><span style=\"color: #008080; text-decoration-color: #008080; font-weight: bold\">-0.4719</span> per game<span style=\"font-weight: bold\">)</span> :: W <span style=\"color: #008080; text-decoration-color: #008080; font-weight: bold\">24.96</span>% | D <span style=\"color: #008080; text-decoration-color: #008080; font-weight: bold\">2.89</span>% | L <span style=\"color: #008080; text-decoration-color: #008080; font-weight: bold\">72.15</span>%\n",
              "</pre>\n"
            ]
          },
          "metadata": {}
        }
      ],
      "source": [
        "res, _ = apply_policy(random_policy, deck, 10000, random_init_state=True)\n",
        "print(res)"
      ]
    },
    {
      "cell_type": "code",
      "execution_count": null,
      "id": "c469fcff-6be7-40cb-a13a-38b91db930ed",
      "metadata": {
        "colab": {
          "base_uri": "https://localhost:8080/",
          "height": 34
        },
        "id": "c469fcff-6be7-40cb-a13a-38b91db930ed",
        "outputId": "7098d3af-7dc6-46a0-c536-407ce8262a3a"
      },
      "outputs": [
        {
          "output_type": "display_data",
          "data": {
            "text/plain": [
              "total \u001b[33mscore\u001b[0m=\u001b[1;36m-431\u001b[0m/\u001b[1;36m10000\u001b[0m games \u001b[1m(\u001b[0m\u001b[1;36m-0.0431\u001b[0m per game\u001b[1m)\u001b[0m :: W \u001b[1;36m42.02\u001b[0m% | D \u001b[1;36m11.65\u001b[0m% | L \u001b[1;36m46.33\u001b[0m%\n"
            ],
            "text/html": [
              "<pre style=\"white-space:pre;overflow-x:auto;line-height:normal;font-family:Menlo,'DejaVu Sans Mono',consolas,'Courier New',monospace\">total <span style=\"color: #808000; text-decoration-color: #808000\">score</span>=<span style=\"color: #008080; text-decoration-color: #008080; font-weight: bold\">-431</span>/<span style=\"color: #008080; text-decoration-color: #008080; font-weight: bold\">10000</span> games <span style=\"font-weight: bold\">(</span><span style=\"color: #008080; text-decoration-color: #008080; font-weight: bold\">-0.0431</span> per game<span style=\"font-weight: bold\">)</span> :: W <span style=\"color: #008080; text-decoration-color: #008080; font-weight: bold\">42.02</span>% | D <span style=\"color: #008080; text-decoration-color: #008080; font-weight: bold\">11.65</span>% | L <span style=\"color: #008080; text-decoration-color: #008080; font-weight: bold\">46.33</span>%\n",
              "</pre>\n"
            ]
          },
          "metadata": {}
        }
      ],
      "source": [
        "res, _ = apply_policy(dealer_policy, deck, 10000, random_init_state=True)\n",
        "print(res)"
      ]
    },
    {
      "cell_type": "markdown",
      "id": "8926ea1c-1ad7-432d-97ff-03d3183aa906",
      "metadata": {
        "id": "8926ea1c-1ad7-432d-97ff-03d3183aa906"
      },
      "source": [
        "And also when using both completely random initial state and completely random initial action. Obviously, randomizing the initial action does not affect random policy (we essentially stay on policy in this case), but it does reduce the effectiveness of the dealer's policy."
      ]
    },
    {
      "cell_type": "code",
      "execution_count": null,
      "id": "5ac6ae04-03db-4073-8969-f3f231e9cf0a",
      "metadata": {
        "colab": {
          "base_uri": "https://localhost:8080/",
          "height": 34
        },
        "id": "5ac6ae04-03db-4073-8969-f3f231e9cf0a",
        "outputId": "97ea0584-2a66-4687-d07e-06af14b18cd0"
      },
      "outputs": [
        {
          "output_type": "display_data",
          "data": {
            "text/plain": [
              "total \u001b[33mscore\u001b[0m=\u001b[1;36m-4671\u001b[0m/\u001b[1;36m10000\u001b[0m games \u001b[1m(\u001b[0m\u001b[1;36m-0.4671\u001b[0m per game\u001b[1m)\u001b[0m :: W \u001b[1;36m24.99\u001b[0m% | D \u001b[1;36m3.31\u001b[0m% | L \u001b[1;36m71.70\u001b[0m%\n"
            ],
            "text/html": [
              "<pre style=\"white-space:pre;overflow-x:auto;line-height:normal;font-family:Menlo,'DejaVu Sans Mono',consolas,'Courier New',monospace\">total <span style=\"color: #808000; text-decoration-color: #808000\">score</span>=<span style=\"color: #008080; text-decoration-color: #008080; font-weight: bold\">-4671</span>/<span style=\"color: #008080; text-decoration-color: #008080; font-weight: bold\">10000</span> games <span style=\"font-weight: bold\">(</span><span style=\"color: #008080; text-decoration-color: #008080; font-weight: bold\">-0.4671</span> per game<span style=\"font-weight: bold\">)</span> :: W <span style=\"color: #008080; text-decoration-color: #008080; font-weight: bold\">24.99</span>% | D <span style=\"color: #008080; text-decoration-color: #008080; font-weight: bold\">3.31</span>% | L <span style=\"color: #008080; text-decoration-color: #008080; font-weight: bold\">71.70</span>%\n",
              "</pre>\n"
            ]
          },
          "metadata": {}
        }
      ],
      "source": [
        "res, _ = apply_policy(random_policy, deck, 10000, random_init_state=True, random_init_action=True)\n",
        "print(res)"
      ]
    },
    {
      "cell_type": "code",
      "execution_count": null,
      "id": "62100a2b-c795-4038-adfa-6ff9556ddf19",
      "metadata": {
        "colab": {
          "base_uri": "https://localhost:8080/",
          "height": 34
        },
        "id": "62100a2b-c795-4038-adfa-6ff9556ddf19",
        "outputId": "1e9937ba-9ea1-4017-d924-617f143c3e48"
      },
      "outputs": [
        {
          "output_type": "display_data",
          "data": {
            "text/plain": [
              "total \u001b[33mscore\u001b[0m=\u001b[1;36m-2759\u001b[0m/\u001b[1;36m10000\u001b[0m games \u001b[1m(\u001b[0m\u001b[1;36m-0.2759\u001b[0m per game\u001b[1m)\u001b[0m :: W \u001b[1;36m33.02\u001b[0m% | D \u001b[1;36m6.37\u001b[0m% | L \u001b[1;36m60.61\u001b[0m%\n"
            ],
            "text/html": [
              "<pre style=\"white-space:pre;overflow-x:auto;line-height:normal;font-family:Menlo,'DejaVu Sans Mono',consolas,'Courier New',monospace\">total <span style=\"color: #808000; text-decoration-color: #808000\">score</span>=<span style=\"color: #008080; text-decoration-color: #008080; font-weight: bold\">-2759</span>/<span style=\"color: #008080; text-decoration-color: #008080; font-weight: bold\">10000</span> games <span style=\"font-weight: bold\">(</span><span style=\"color: #008080; text-decoration-color: #008080; font-weight: bold\">-0.2759</span> per game<span style=\"font-weight: bold\">)</span> :: W <span style=\"color: #008080; text-decoration-color: #008080; font-weight: bold\">33.02</span>% | D <span style=\"color: #008080; text-decoration-color: #008080; font-weight: bold\">6.37</span>% | L <span style=\"color: #008080; text-decoration-color: #008080; font-weight: bold\">60.61</span>%\n",
              "</pre>\n"
            ]
          },
          "metadata": {}
        }
      ],
      "source": [
        "res, _ = apply_policy(dealer_policy, deck, 10000, random_init_state=True, random_init_action=True)\n",
        "print(res)"
      ]
    },
    {
      "cell_type": "markdown",
      "id": "eec722ea-405b-4314-b134-803eb29fcb66",
      "metadata": {
        "id": "eec722ea-405b-4314-b134-803eb29fcb66"
      },
      "source": [
        "## Learning a Decision Policy"
      ]
    },
    {
      "cell_type": "markdown",
      "id": "6faec29c-429e-47f5-a899-1476827ac370",
      "metadata": {
        "id": "6faec29c-429e-47f5-a899-1476827ac370"
      },
      "source": [
        "In order to learn a decision policy, we will first implement a policy which is greedy with respect to a given Q-function. In this particular case, the Q-function will be implemented as a dictionary which returns a pair of value: the Q-value corresponding to HIT action, and the Q-value corresponding to HIT action.\n",
        "\n",
        "If the Q-dictionary does not contain an entry for a given state, a random action will be returned. Otherwise, the action with the higher Q-value will be used. If some Q-values returned for the given state are missing (equal to `None`) random policy will be used. If the length of the returned array is different than expected, an error will be raised."
      ]
    },
    {
      "cell_type": "code",
      "execution_count": null,
      "id": "365c37cd-1acc-4a63-9ffc-b743ac2e442e",
      "metadata": {
        "id": "365c37cd-1acc-4a63-9ffc-b743ac2e442e"
      },
      "outputs": [],
      "source": [
        "QDict = dict[State, tuple[float, float]]\n",
        "\n",
        "def create_greedy_policy(q_dict: QDict) -> Policy:\n",
        "    \"\"\"Create a greedy policy function based on the given Q-dictionary.\"\"\"\n",
        "    no_actions = len(list(Action))\n",
        "\n",
        "    def policy(s: State):\n",
        "        q_values = q_dict.get(s, None)\n",
        "        if q_values is not None:\n",
        "            assert len(q_values) == no_actions, f\"Invalid Q-dict for state {s}.\"\n",
        "            if any([v is None for v in q_values]):\n",
        "                return random_policy(s)\n",
        "            else:\n",
        "                ndx = np.argmax(q_values)\n",
        "                return Action(ndx)\n",
        "        else:\n",
        "            return random_policy(s)\n",
        "\n",
        "    return policy"
      ]
    },
    {
      "cell_type": "markdown",
      "id": "d5bfbd11-7311-4b65-b35d-887fa07b4275",
      "metadata": {
        "id": "d5bfbd11-7311-4b65-b35d-887fa07b4275"
      },
      "source": [
        "Now we need a function that will evaluate Q-dictionary based on the collected experience. In order to do so, we will first create a function that will go through the entire experience and to each encountered state-action pair it will associate a list of all associated gains.\n",
        "\n",
        "Taking into account the manner in which we organize data, the actual resulting data-type will be somewhat different: it will be a dictionary with keys corresponding to states and values corresponding to a pair of leasts (one for each action). Each list will then contain gains encountered after playing the given action in the given state."
      ]
    },
    {
      "cell_type": "code",
      "execution_count": null,
      "id": "3aaa2dce-fac5-488a-93d0-2d8e387c4ae7",
      "metadata": {
        "id": "3aaa2dce-fac5-488a-93d0-2d8e387c4ae7"
      },
      "outputs": [],
      "source": [
        "GainsDict = dict[State, tuple[list[float], list[float]]]\n",
        "\n",
        "def create_gains_dict(experience: Experience)-> GainsDict:\n",
        "    \"\"\"Create gains dict from the given experience.\"\"\"\n",
        "    gains_dict = dict()\n",
        "    for s, a, g in experience:\n",
        "        action_gains = gains_dict.get(s, ([], []))\n",
        "        action_gains[a.value].append(g)\n",
        "        gains_dict[s] = action_gains\n",
        "    return gains_dict"
      ]
    },
    {
      "cell_type": "code",
      "execution_count": null,
      "id": "0bb2bfcc-1c68-4046-b86d-252a872af062",
      "metadata": {
        "id": "0bb2bfcc-1c68-4046-b86d-252a872af062"
      },
      "outputs": [],
      "source": [
        "def evaluate_Q(experience: Experience) -> QDict:\n",
        "    \"\"\"\n",
        "    Evaluate Q-values from the given experience.\n",
        "\n",
        "    Args:\n",
        "        experience (Experience): The experience to evaluate Q-values from.\n",
        "\n",
        "    Returns:\n",
        "        QDict: A dictionary containing Q-values.\n",
        "    \"\"\"\n",
        "    q_dict = dict()\n",
        "\n",
        "    for exp in experience:\n",
        "        if len(exp) == 2:\n",
        "            # Experience tuple contains only state and action\n",
        "            s, a = exp\n",
        "            if s not in q_dict:\n",
        "                q_dict[s] = {Action.HIT: 0, Action.HOLD: 0}\n",
        "        elif len(exp) == 3:\n",
        "            # Experience tuple contains state, action, and gain\n",
        "            s, a, g = exp\n",
        "            if s not in q_dict:\n",
        "                q_dict[s] = {Action.HIT: 0, Action.HOLD: 0}\n",
        "            q_dict[s][a] = g\n",
        "        else:\n",
        "            # Invalid experience tuple\n",
        "            raise ValueError(\"Invalid experience tuple: must contain either 2 or 3 values\")\n",
        "\n",
        "    return q_dict\n"
      ]
    },
    {
      "cell_type": "markdown",
      "id": "9597c802-3fa5-4404-8314-a9977c928931",
      "metadata": {
        "id": "9597c802-3fa5-4404-8314-a9977c928931"
      },
      "source": [
        "Let us now test the learning procedure. We start from an empty Q-dict (corresponding to the random policy), and play 10000 games in order to collect experience. Then, we use this experience to build a new Q-dict, and use it to construct a new, hopefully better policy!"
      ]
    },
    {
      "cell_type": "markdown",
      "id": "27dfaf25-395f-46ef-b616-9a7a3f32e9b2",
      "metadata": {
        "id": "27dfaf25-395f-46ef-b616-9a7a3f32e9b2"
      },
      "source": [
        "### Testing Individual Iterations of the Learning Algorithm"
      ]
    },
    {
      "cell_type": "code",
      "execution_count": null,
      "id": "a53a5d71-474c-4114-be2b-0a408f0cf080",
      "metadata": {
        "colab": {
          "base_uri": "https://localhost:8080/",
          "height": 34
        },
        "id": "a53a5d71-474c-4114-be2b-0a408f0cf080",
        "outputId": "c958a2f4-65f1-4abb-e8ac-4a66f687b81c"
      },
      "outputs": [
        {
          "output_type": "display_data",
          "data": {
            "text/plain": [
              "total \u001b[33mscore\u001b[0m=\u001b[1;36m-4688\u001b[0m/\u001b[1;36m10000\u001b[0m games \u001b[1m(\u001b[0m\u001b[1;36m-0.4688\u001b[0m per game\u001b[1m)\u001b[0m :: W \u001b[1;36m25.10\u001b[0m% | D \u001b[1;36m2.92\u001b[0m% | L \u001b[1;36m71.98\u001b[0m%\n"
            ],
            "text/html": [
              "<pre style=\"white-space:pre;overflow-x:auto;line-height:normal;font-family:Menlo,'DejaVu Sans Mono',consolas,'Courier New',monospace\">total <span style=\"color: #808000; text-decoration-color: #808000\">score</span>=<span style=\"color: #008080; text-decoration-color: #008080; font-weight: bold\">-4688</span>/<span style=\"color: #008080; text-decoration-color: #008080; font-weight: bold\">10000</span> games <span style=\"font-weight: bold\">(</span><span style=\"color: #008080; text-decoration-color: #008080; font-weight: bold\">-0.4688</span> per game<span style=\"font-weight: bold\">)</span> :: W <span style=\"color: #008080; text-decoration-color: #008080; font-weight: bold\">25.10</span>% | D <span style=\"color: #008080; text-decoration-color: #008080; font-weight: bold\">2.92</span>% | L <span style=\"color: #008080; text-decoration-color: #008080; font-weight: bold\">71.98</span>%\n",
              "</pre>\n"
            ]
          },
          "metadata": {}
        }
      ],
      "source": [
        "# Iteration No #1\n",
        "q_dict = dict()\n",
        "policy = create_greedy_policy(q_dict)\n",
        "res, exp = apply_policy(policy, deck, 10000, gamma=0.9, random_init_state=True, random_init_action=True)\n",
        "print(res)"
      ]
    },
    {
      "cell_type": "code",
      "execution_count": null,
      "id": "50f0896a-f759-4529-82e6-6d68bdf853a7",
      "metadata": {
        "colab": {
          "base_uri": "https://localhost:8080/",
          "height": 34
        },
        "id": "50f0896a-f759-4529-82e6-6d68bdf853a7",
        "outputId": "2b85bb0c-a29d-448f-cb38-0c674ea922b6"
      },
      "outputs": [
        {
          "output_type": "display_data",
          "data": {
            "text/plain": [
              "total \u001b[33mscore\u001b[0m=\u001b[1;36m-7302\u001b[0m/\u001b[1;36m10000\u001b[0m games \u001b[1m(\u001b[0m\u001b[1;36m-0.7302\u001b[0m per game\u001b[1m)\u001b[0m :: W \u001b[1;36m13.11\u001b[0m% | D \u001b[1;36m0.76\u001b[0m% | L \u001b[1;36m86.13\u001b[0m%\n"
            ],
            "text/html": [
              "<pre style=\"white-space:pre;overflow-x:auto;line-height:normal;font-family:Menlo,'DejaVu Sans Mono',consolas,'Courier New',monospace\">total <span style=\"color: #808000; text-decoration-color: #808000\">score</span>=<span style=\"color: #008080; text-decoration-color: #008080; font-weight: bold\">-7302</span>/<span style=\"color: #008080; text-decoration-color: #008080; font-weight: bold\">10000</span> games <span style=\"font-weight: bold\">(</span><span style=\"color: #008080; text-decoration-color: #008080; font-weight: bold\">-0.7302</span> per game<span style=\"font-weight: bold\">)</span> :: W <span style=\"color: #008080; text-decoration-color: #008080; font-weight: bold\">13.11</span>% | D <span style=\"color: #008080; text-decoration-color: #008080; font-weight: bold\">0.76</span>% | L <span style=\"color: #008080; text-decoration-color: #008080; font-weight: bold\">86.13</span>%\n",
              "</pre>\n"
            ]
          },
          "metadata": {}
        }
      ],
      "source": [
        "# Iteration No #2\n",
        "q_dict = evaluate_Q(exp)\n",
        "policy = create_greedy_policy(q_dict)\n",
        "res, exp = apply_policy(policy, deck, 10000, gamma=0.9, random_init_state=True, random_init_action=True)\n",
        "print(res)"
      ]
    },
    {
      "cell_type": "code",
      "execution_count": null,
      "id": "8635baf6-6aab-41ea-8226-be57eaac1196",
      "metadata": {
        "colab": {
          "base_uri": "https://localhost:8080/"
        },
        "id": "8635baf6-6aab-41ea-8226-be57eaac1196",
        "outputId": "6bb4618a-f347-485d-f981-e0b28e52ab94"
      },
      "outputs": [
        {
          "output_type": "execute_result",
          "data": {
            "text/plain": [
              "[((2, A, 1), {HIT: -0.9, HOLD: -1}),\n",
              " ((2, A, 2), {HIT: 0.9, HOLD: -1}),\n",
              " ((2, A, 3), {HIT: 0.9, HOLD: -1}),\n",
              " ((2, A, 4), {HIT: -0.9, HOLD: -1}),\n",
              " ((2, A, 5), {HIT: -0.7290000000000001, HOLD: -1}),\n",
              " ((2, A, 6), {HIT: -0.81, HOLD: -1}),\n",
              " ((2, A, 7), {HIT: -0.9, HOLD: 1}),\n",
              " ((2, A, 8), {HIT: -0.9, HOLD: -1}),\n",
              " ((2, A, 9), {HIT: -0.9, HOLD: -1}),\n",
              " ((2, A, 10), {HIT: 0.9, HOLD: -1}),\n",
              " ((3, A, 1), {HIT: -0.81, HOLD: -1}),\n",
              " ((3, A, 2), {HIT: -0.9, HOLD: -1}),\n",
              " ((3, A, 3), {HIT: 0.9, HOLD: -1}),\n",
              " ((3, A, 4), {HIT: 0.81, HOLD: -1}),\n",
              " ((3, A, 5), {HIT: -0.81, HOLD: -1}),\n",
              " ((3, A, 6), {HIT: -0.81, HOLD: -1}),\n",
              " ((3, A, 7), {HIT: 0.5904900000000002, HOLD: -1}),\n",
              " ((3, A, 8), {HIT: 0.5904900000000002, HOLD: -1}),\n",
              " ((3, A, 9), {HIT: -0.6561000000000001, HOLD: 1}),\n",
              " ((3, A, 10), {HIT: 0.9, HOLD: -1}),\n",
              " ((4, no A, 1), {HIT: 0.9, HOLD: -1}),\n",
              " ((4, no A, 2), {HIT: -0.9, HOLD: -1}),\n",
              " ((4, no A, 3), {HIT: 0.81, HOLD: -1}),\n",
              " ((4, no A, 4), {HIT: -0.81, HOLD: 1}),\n",
              " ((4, no A, 5), {HIT: -0.9, HOLD: -1}),\n",
              " ((4, no A, 6), {HIT: -0.9, HOLD: 1}),\n",
              " ((4, no A, 7), {HIT: -0.81, HOLD: 1}),\n",
              " ((4, no A, 8), {HIT: -0.9, HOLD: 1}),\n",
              " ((4, no A, 9), {HIT: -0.7290000000000001, HOLD: -1}),\n",
              " ((4, no A, 10), {HIT: 0.0, HOLD: -1}),\n",
              " ((4, A, 1), {HIT: -0.9, HOLD: 1}),\n",
              " ((4, A, 2), {HIT: -0.6561000000000001, HOLD: 1}),\n",
              " ((4, A, 3), {HIT: -0.9, HOLD: 1}),\n",
              " ((4, A, 4), {HIT: -0.9, HOLD: -1}),\n",
              " ((4, A, 5), {HIT: -0.9, HOLD: -1}),\n",
              " ((4, A, 6), {HIT: -0.7290000000000001, HOLD: -1}),\n",
              " ((4, A, 7), {HIT: -0.81, HOLD: 1}),\n",
              " ((4, A, 8), {HIT: 0.7290000000000001, HOLD: -1}),\n",
              " ((4, A, 9), {HIT: 0.6561000000000001, HOLD: -1}),\n",
              " ((4, A, 10), {HIT: -0.81, HOLD: -1}),\n",
              " ((5, no A, 1), {HIT: -0.9, HOLD: 1}),\n",
              " ((5, no A, 2), {HIT: -0.7290000000000001, HOLD: 1}),\n",
              " ((5, no A, 3), {HIT: -0.81, HOLD: -1}),\n",
              " ((5, no A, 4), {HIT: 0.7290000000000001, HOLD: -1}),\n",
              " ((5, no A, 5), {HIT: -0.9, HOLD: -1}),\n",
              " ((5, no A, 6), {HIT: -0.81, HOLD: -1}),\n",
              " ((5, no A, 7), {HIT: -0.9, HOLD: -1}),\n",
              " ((5, no A, 8), {HIT: -0.81, HOLD: -1}),\n",
              " ((5, no A, 9), {HIT: -0.9, HOLD: -1}),\n",
              " ((5, no A, 10), {HIT: -0.9, HOLD: -1}),\n",
              " ((5, A, 1), {HIT: -0.9, HOLD: -1}),\n",
              " ((5, A, 2), {HIT: -0.81, HOLD: -1}),\n",
              " ((5, A, 3), {HIT: -0.9, HOLD: -1}),\n",
              " ((5, A, 4), {HIT: -0.81, HOLD: -1}),\n",
              " ((5, A, 5), {HIT: -0.9, HOLD: -1}),\n",
              " ((5, A, 6), {HIT: 0.81, HOLD: -1}),\n",
              " ((5, A, 7), {HIT: -0.81, HOLD: -1}),\n",
              " ((5, A, 8), {HIT: -0.81, HOLD: -1}),\n",
              " ((5, A, 9), {HIT: -0.9, HOLD: -1}),\n",
              " ((5, A, 10), {HIT: -0.9, HOLD: -1}),\n",
              " ((6, no A, 1), {HIT: 0.9, HOLD: -1}),\n",
              " ((6, no A, 2), {HIT: -0.9, HOLD: 1}),\n",
              " ((6, no A, 3), {HIT: -0.9, HOLD: -1}),\n",
              " ((6, no A, 4), {HIT: -0.9, HOLD: 1}),\n",
              " ((6, no A, 5), {HIT: 0.9, HOLD: 1}),\n",
              " ((6, no A, 6), {HIT: 0.81, HOLD: 1}),\n",
              " ((6, no A, 7), {HIT: 0.9, HOLD: 1}),\n",
              " ((6, no A, 8), {HIT: -0.9, HOLD: 1}),\n",
              " ((6, no A, 9), {HIT: 0.0, HOLD: -1}),\n",
              " ((6, no A, 10), {HIT: -0.9, HOLD: -1}),\n",
              " ((6, A, 1), {HIT: -0.9, HOLD: 1}),\n",
              " ((6, A, 2), {HIT: 0.9, HOLD: 1}),\n",
              " ((6, A, 3), {HIT: 0.9, HOLD: -1}),\n",
              " ((6, A, 4), {HIT: -0.7290000000000001, HOLD: 1}),\n",
              " ((6, A, 5), {HIT: 0.9, HOLD: 1}),\n",
              " ((6, A, 6), {HIT: 0.9, HOLD: -1}),\n",
              " ((6, A, 7), {HIT: -0.9, HOLD: -1}),\n",
              " ((6, A, 8), {HIT: 0.81, HOLD: -1}),\n",
              " ((6, A, 9), {HIT: -0.9, HOLD: 1}),\n",
              " ((6, A, 10), {HIT: -0.81, HOLD: -1}),\n",
              " ((7, no A, 1), {HIT: -0.9, HOLD: -1}),\n",
              " ((7, no A, 2), {HIT: 0.81, HOLD: -1}),\n",
              " ((7, no A, 3), {HIT: -0.9, HOLD: 1}),\n",
              " ((7, no A, 4), {HIT: 0.9, HOLD: -1}),\n",
              " ((7, no A, 5), {HIT: -0.9, HOLD: -1}),\n",
              " ((7, no A, 6), {HIT: -0.7290000000000001, HOLD: -1}),\n",
              " ((7, no A, 7), {HIT: -0.81, HOLD: 1}),\n",
              " ((7, no A, 8), {HIT: -0.81, HOLD: -1}),\n",
              " ((7, no A, 9), {HIT: 0.0, HOLD: -1}),\n",
              " ((7, no A, 10), {HIT: -0.9, HOLD: -1}),\n",
              " ((7, A, 1), {HIT: -0.81, HOLD: -1}),\n",
              " ((7, A, 2), {HIT: -0.9, HOLD: -1}),\n",
              " ((7, A, 3), {HIT: -0.81, HOLD: -1}),\n",
              " ((7, A, 4), {HIT: -0.9, HOLD: 1}),\n",
              " ((7, A, 5), {HIT: -0.9, HOLD: -1}),\n",
              " ((7, A, 6), {HIT: 0.9, HOLD: -1}),\n",
              " ((7, A, 7), {HIT: 0.81, HOLD: -1}),\n",
              " ((7, A, 8), {HIT: -0.9, HOLD: -1}),\n",
              " ((7, A, 9), {HIT: 0.81, HOLD: -1}),\n",
              " ((7, A, 10), {HIT: -0.81, HOLD: -1}),\n",
              " ((8, no A, 1), {HIT: 0.0, HOLD: 1}),\n",
              " ((8, no A, 2), {HIT: -0.81, HOLD: -1}),\n",
              " ((8, no A, 3), {HIT: -0.81, HOLD: 1}),\n",
              " ((8, no A, 4), {HIT: -0.9, HOLD: -1}),\n",
              " ((8, no A, 5), {HIT: 0.81, HOLD: -1}),\n",
              " ((8, no A, 6), {HIT: -0.81, HOLD: -1}),\n",
              " ((8, no A, 7), {HIT: 0.9, HOLD: -1}),\n",
              " ((8, no A, 8), {HIT: -0.9, HOLD: 1}),\n",
              " ((8, no A, 9), {HIT: 0.81, HOLD: 1}),\n",
              " ((8, no A, 10), {HIT: 0.7290000000000001, HOLD: -1}),\n",
              " ((8, A, 1), {HIT: 0.81, HOLD: -1}),\n",
              " ((8, A, 2), {HIT: 0.81, HOLD: -1}),\n",
              " ((8, A, 3), {HIT: 0.7290000000000001, HOLD: -1}),\n",
              " ((8, A, 4), {HIT: 0.7290000000000001, HOLD: -1}),\n",
              " ((8, A, 5), {HIT: -0.9, HOLD: -1}),\n",
              " ((8, A, 6), {HIT: -0.9, HOLD: -1}),\n",
              " ((8, A, 7), {HIT: -0.9, HOLD: -1}),\n",
              " ((8, A, 8), {HIT: 0.6561000000000001, HOLD: -1}),\n",
              " ((8, A, 9), {HIT: 0.0, HOLD: -1}),\n",
              " ((8, A, 10), {HIT: -0.9, HOLD: -1}),\n",
              " ((9, no A, 1), {HIT: 0.9, HOLD: 1}),\n",
              " ((9, no A, 2), {HIT: 0.0, HOLD: -1}),\n",
              " ((9, no A, 3), {HIT: -0.81, HOLD: -1}),\n",
              " ((9, no A, 4), {HIT: 0.9, HOLD: -1}),\n",
              " ((9, no A, 5), {HIT: -0.9, HOLD: -1}),\n",
              " ((9, no A, 6), {HIT: 0.81, HOLD: 1}),\n",
              " ((9, no A, 7), {HIT: 0.81, HOLD: -1}),\n",
              " ((9, no A, 8), {HIT: -0.81, HOLD: -1}),\n",
              " ((9, no A, 9), {HIT: 0.9, HOLD: -1}),\n",
              " ((9, no A, 10), {HIT: -0.9, HOLD: -1}),\n",
              " ((9, A, 1), {HIT: 0.7290000000000001, HOLD: 1}),\n",
              " ((9, A, 2), {HIT: 0.81, HOLD: 1}),\n",
              " ((9, A, 3), {HIT: 0.9, HOLD: -1}),\n",
              " ((9, A, 4), {HIT: 0.81, HOLD: 1}),\n",
              " ((9, A, 5), {HIT: -0.81, HOLD: -1}),\n",
              " ((9, A, 6), {HIT: -0.9, HOLD: -1}),\n",
              " ((9, A, 7), {HIT: 0.9, HOLD: -1}),\n",
              " ((9, A, 8), {HIT: -0.9, HOLD: -1}),\n",
              " ((9, A, 9), {HIT: 0.9, HOLD: -1}),\n",
              " ((9, A, 10), {HIT: -0.9, HOLD: -1}),\n",
              " ((10, no A, 1), {HIT: 0.0, HOLD: 1}),\n",
              " ((10, no A, 2), {HIT: 0.9, HOLD: 1}),\n",
              " ((10, no A, 3), {HIT: -0.9, HOLD: -1}),\n",
              " ((10, no A, 4), {HIT: 0.9, HOLD: -1}),\n",
              " ((10, no A, 5), {HIT: -0.9, HOLD: -1}),\n",
              " ((10, no A, 6), {HIT: 0.9, HOLD: -1}),\n",
              " ((10, no A, 7), {HIT: 0.9, HOLD: -1}),\n",
              " ((10, no A, 8), {HIT: -0.9, HOLD: -1}),\n",
              " ((10, no A, 9), {HIT: 0.9, HOLD: 1}),\n",
              " ((10, no A, 10), {HIT: 0.81, HOLD: -1}),\n",
              " ((10, A, 1), {HIT: -0.81, HOLD: -1}),\n",
              " ((10, A, 2), {HIT: -0.9, HOLD: -1}),\n",
              " ((10, A, 3), {HIT: 0.81, HOLD: -1}),\n",
              " ((10, A, 4), {HIT: 0.7290000000000001, HOLD: -1}),\n",
              " ((10, A, 5), {HIT: -0.9, HOLD: -1}),\n",
              " ((10, A, 6), {HIT: -0.81, HOLD: 1}),\n",
              " ((10, A, 7), {HIT: -0.81, HOLD: 1}),\n",
              " ((10, A, 8), {HIT: -0.81, HOLD: -1}),\n",
              " ((10, A, 9), {HIT: 0.81, HOLD: -1}),\n",
              " ((10, A, 10), {HIT: -0.9, HOLD: -1}),\n",
              " ((11, no A, 1), {HIT: -0.9, HOLD: -1}),\n",
              " ((11, no A, 2), {HIT: 0.81, HOLD: -1}),\n",
              " ((11, no A, 3), {HIT: 0.9, HOLD: 1}),\n",
              " ((11, no A, 4), {HIT: 0.9, HOLD: 1}),\n",
              " ((11, no A, 5), {HIT: 0.9, HOLD: -1}),\n",
              " ((11, no A, 6), {HIT: -0.9, HOLD: -1}),\n",
              " ((11, no A, 7), {HIT: 0.9, HOLD: -1}),\n",
              " ((11, no A, 8), {HIT: -0.9, HOLD: -1}),\n",
              " ((11, no A, 9), {HIT: -0.9, HOLD: -1}),\n",
              " ((11, no A, 10), {HIT: -0.9, HOLD: -1}),\n",
              " ((11, A, 1), {HIT: -0.9, HOLD: -1}),\n",
              " ((11, A, 2), {HIT: -0.9, HOLD: -1}),\n",
              " ((11, A, 3), {HIT: -0.7290000000000001, HOLD: 1}),\n",
              " ((11, A, 4), {HIT: -0.81, HOLD: 1}),\n",
              " ((11, A, 5), {HIT: 0.9, HOLD: -1}),\n",
              " ((11, A, 6), {HIT: 0.81, HOLD: 1}),\n",
              " ((11, A, 7), {HIT: -0.9, HOLD: -1}),\n",
              " ((11, A, 8), {HIT: 0.9, HOLD: -1}),\n",
              " ((11, A, 9), {HIT: -0.9, HOLD: 1}),\n",
              " ((11, A, 10), {HIT: -0.9, HOLD: -1}),\n",
              " ((12, no A, 1), {HIT: -0.9, HOLD: -1}),\n",
              " ((12, no A, 2), {HIT: -0.9, HOLD: -1}),\n",
              " ((12, no A, 3), {HIT: 0.0, HOLD: -1}),\n",
              " ((12, no A, 4), {HIT: 0.9, HOLD: -1}),\n",
              " ((12, no A, 5), {HIT: -0.9, HOLD: 1}),\n",
              " ((12, no A, 6), {HIT: -0.9, HOLD: -1}),\n",
              " ((12, no A, 7), {HIT: 0.9, HOLD: -1}),\n",
              " ((12, no A, 8), {HIT: -0.9, HOLD: 1}),\n",
              " ((12, no A, 9), {HIT: -0.9, HOLD: -1}),\n",
              " ((12, no A, 10), {HIT: -0.81, HOLD: -1}),\n",
              " ((12, A, 1), {HIT: -0.81, HOLD: -1}),\n",
              " ((12, A, 2), {HIT: -0.81, HOLD: -1}),\n",
              " ((12, A, 3), {HIT: -0.9, HOLD: -1}),\n",
              " ((12, A, 4), {HIT: -0.9, HOLD: -1}),\n",
              " ((12, A, 5), {HIT: 0.81, HOLD: -1}),\n",
              " ((12, A, 6), {HIT: -0.6561000000000001, HOLD: -1}),\n",
              " ((12, A, 7), {HIT: 0.6561000000000001, HOLD: 1}),\n",
              " ((12, A, 8), {HIT: -0.81, HOLD: -1}),\n",
              " ((12, A, 9), {HIT: 0.9, HOLD: 1}),\n",
              " ((12, A, 10), {HIT: -0.9, HOLD: -1}),\n",
              " ((13, no A, 1), {HIT: 0.9, HOLD: -1}),\n",
              " ((13, no A, 2), {HIT: 0.9, HOLD: -1}),\n",
              " ((13, no A, 3), {HIT: -0.9, HOLD: -1}),\n",
              " ((13, no A, 4), {HIT: 0.9, HOLD: -1}),\n",
              " ((13, no A, 5), {HIT: 0.9, HOLD: -1}),\n",
              " ((13, no A, 6), {HIT: 0.9, HOLD: -1}),\n",
              " ((13, no A, 7), {HIT: 0.9, HOLD: -1}),\n",
              " ((13, no A, 8), {HIT: 0.9, HOLD: -1}),\n",
              " ((13, no A, 9), {HIT: 0.9, HOLD: -1}),\n",
              " ((13, no A, 10), {HIT: -0.9, HOLD: -1}),\n",
              " ((13, A, 1), {HIT: -0.9, HOLD: -1}),\n",
              " ((13, A, 2), {HIT: 0.81, HOLD: -1}),\n",
              " ((13, A, 3), {HIT: -0.9, HOLD: -1}),\n",
              " ((13, A, 4), {HIT: 0.81, HOLD: -1}),\n",
              " ((13, A, 5), {HIT: 0.9, HOLD: 1}),\n",
              " ((13, A, 6), {HIT: -0.9, HOLD: -1}),\n",
              " ((13, A, 7), {HIT: -0.81, HOLD: 1}),\n",
              " ((13, A, 8), {HIT: -0.9, HOLD: 1}),\n",
              " ((13, A, 9), {HIT: -0.7290000000000001, HOLD: 1}),\n",
              " ((13, A, 10), {HIT: -0.9, HOLD: 1}),\n",
              " ((14, no A, 1), {HIT: -0.9, HOLD: -1}),\n",
              " ((14, no A, 2), {HIT: 0.9, HOLD: -1}),\n",
              " ((14, no A, 3), {HIT: 0.9, HOLD: -1}),\n",
              " ((14, no A, 4), {HIT: 0.9, HOLD: -1}),\n",
              " ((14, no A, 5), {HIT: 0.9, HOLD: 1}),\n",
              " ((14, no A, 6), {HIT: 0.9, HOLD: 1}),\n",
              " ((14, no A, 7), {HIT: -0.9, HOLD: -1}),\n",
              " ((14, no A, 8), {HIT: 0.9, HOLD: 1}),\n",
              " ((14, no A, 9), {HIT: 0.0, HOLD: -1}),\n",
              " ((14, no A, 10), {HIT: 0.9, HOLD: -1}),\n",
              " ((14, A, 1), {HIT: 0.81, HOLD: -1}),\n",
              " ((14, A, 2), {HIT: -0.9, HOLD: -1}),\n",
              " ((14, A, 3), {HIT: 0.7290000000000001, HOLD: -1}),\n",
              " ((14, A, 4), {HIT: 0.9, HOLD: 1}),\n",
              " ((14, A, 5), {HIT: -0.9, HOLD: 1}),\n",
              " ((14, A, 6), {HIT: -0.9, HOLD: -1}),\n",
              " ((14, A, 7), {HIT: -0.9, HOLD: -1}),\n",
              " ((14, A, 8), {HIT: -0.9, HOLD: -1}),\n",
              " ((14, A, 9), {HIT: 0.9, HOLD: -1}),\n",
              " ((14, A, 10), {HIT: -0.9, HOLD: -1}),\n",
              " ((15, no A, 1), {HIT: 0.9, HOLD: -1}),\n",
              " ((15, no A, 2), {HIT: -0.9, HOLD: 1}),\n",
              " ((15, no A, 3), {HIT: -0.9, HOLD: -1}),\n",
              " ((15, no A, 4), {HIT: 0.81, HOLD: -1}),\n",
              " ((15, no A, 5), {HIT: 0.9, HOLD: -1}),\n",
              " ((15, no A, 6), {HIT: 0.0, HOLD: -1}),\n",
              " ((15, no A, 7), {HIT: 0.9, HOLD: -1}),\n",
              " ((15, no A, 8), {HIT: -0.9, HOLD: -1}),\n",
              " ((15, no A, 9), {HIT: 0.0, HOLD: 1}),\n",
              " ((15, no A, 10), {HIT: 0.9, HOLD: -1}),\n",
              " ((15, A, 1), {HIT: -0.9, HOLD: 1}),\n",
              " ((15, A, 2), {HIT: 0.9, HOLD: -1}),\n",
              " ((15, A, 3), {HIT: -0.9, HOLD: -1}),\n",
              " ((15, A, 4), {HIT: 0.81, HOLD: -1}),\n",
              " ((15, A, 5), {HIT: -0.9, HOLD: 1}),\n",
              " ((15, A, 6), {HIT: -0.81, HOLD: -1}),\n",
              " ((15, A, 7), {HIT: 0.9, HOLD: -1}),\n",
              " ((15, A, 8), {HIT: 0.7290000000000001, HOLD: 1}),\n",
              " ((15, A, 9), {HIT: 0.9, HOLD: -1}),\n",
              " ((15, A, 10), {HIT: -0.81, HOLD: -1}),\n",
              " ((16, no A, 1), {HIT: 0.9, HOLD: 1}),\n",
              " ((16, no A, 2), {HIT: 0.9, HOLD: -1}),\n",
              " ((16, no A, 3), {HIT: 0.9, HOLD: 1}),\n",
              " ((16, no A, 4), {HIT: 0.9, HOLD: 1}),\n",
              " ((16, no A, 5), {HIT: 0.9, HOLD: 1}),\n",
              " ((16, no A, 6), {HIT: -0.9, HOLD: -1}),\n",
              " ((16, no A, 7), {HIT: 0.9, HOLD: -1}),\n",
              " ((16, no A, 8), {HIT: 0.9, HOLD: -1}),\n",
              " ((16, no A, 9), {HIT: 0.0, HOLD: 1}),\n",
              " ((16, no A, 10), {HIT: 0.9, HOLD: -1}),\n",
              " ((16, A, 1), {HIT: 0, HOLD: -1}),\n",
              " ((16, A, 2), {HIT: -0.9, HOLD: 1}),\n",
              " ((16, A, 3), {HIT: 0.81, HOLD: 1}),\n",
              " ((16, A, 4), {HIT: 0.7290000000000001, HOLD: -1}),\n",
              " ((16, A, 5), {HIT: 0.81, HOLD: -1}),\n",
              " ((16, A, 6), {HIT: -0.9, HOLD: -1}),\n",
              " ((16, A, 7), {HIT: -0.9, HOLD: -1}),\n",
              " ((16, A, 8), {HIT: -0.9, HOLD: -1}),\n",
              " ((16, A, 9), {HIT: -0.81, HOLD: 1}),\n",
              " ((16, A, 10), {HIT: -0.9, HOLD: -1}),\n",
              " ((17, no A, 1), {HIT: 0.0, HOLD: 0}),\n",
              " ((17, no A, 2), {HIT: 0.9, HOLD: -1}),\n",
              " ((17, no A, 3), {HIT: 0.9, HOLD: 1}),\n",
              " ((17, no A, 4), {HIT: 0.9, HOLD: 1}),\n",
              " ((17, no A, 5), {HIT: 0.9, HOLD: 1}),\n",
              " ((17, no A, 6), {HIT: 0.9, HOLD: 0}),\n",
              " ((17, no A, 7), {HIT: 0.9, HOLD: 0}),\n",
              " ((17, no A, 8), {HIT: 0.0, HOLD: 1}),\n",
              " ((17, no A, 9), {HIT: -0.9, HOLD: -1}),\n",
              " ((17, no A, 10), {HIT: 0.81, HOLD: 1}),\n",
              " ((17, A, 1), {HIT: 0.9, HOLD: -1}),\n",
              " ((17, A, 2), {HIT: -0.81, HOLD: -1}),\n",
              " ((17, A, 3), {HIT: -0.81, HOLD: 1}),\n",
              " ((17, A, 4), {HIT: 0.9, HOLD: -1}),\n",
              " ((17, A, 5), {HIT: -0.9, HOLD: -1}),\n",
              " ((17, A, 6), {HIT: -0.9, HOLD: 1}),\n",
              " ((17, A, 7), {HIT: -0.9, HOLD: -1}),\n",
              " ((17, A, 8), {HIT: -0.9, HOLD: -1}),\n",
              " ((17, A, 9), {HIT: 0.0, HOLD: -1}),\n",
              " ((17, A, 10), {HIT: 0.9, HOLD: -1}),\n",
              " ((18, no A, 1), {HIT: 0.9, HOLD: 1}),\n",
              " ((18, no A, 2), {HIT: 0.9, HOLD: 1}),\n",
              " ((18, no A, 3), {HIT: 0.0, HOLD: 0}),\n",
              " ((18, no A, 4), {HIT: 0.9, HOLD: 1}),\n",
              " ((18, no A, 5), {HIT: 0.9, HOLD: 0}),\n",
              " ((18, no A, 6), {HIT: 0.9, HOLD: 1}),\n",
              " ((18, no A, 7), {HIT: 0.9, HOLD: -1}),\n",
              " ((18, no A, 8), {HIT: 0.9, HOLD: -1}),\n",
              " ((18, no A, 9), {HIT: 0.9, HOLD: -1}),\n",
              " ((18, no A, 10), {HIT: 0.9, HOLD: 1}),\n",
              " ((18, A, 1), {HIT: 0, HOLD: -1}),\n",
              " ((18, A, 2), {HIT: -0.81, HOLD: 1}),\n",
              " ((18, A, 3), {HIT: -0.9, HOLD: -1}),\n",
              " ((18, A, 4), {HIT: -0.9, HOLD: 1}),\n",
              " ((18, A, 5), {HIT: -0.9, HOLD: -1}),\n",
              " ((18, A, 6), {HIT: -0.81, HOLD: -1}),\n",
              " ((18, A, 7), {HIT: 0.7290000000000001, HOLD: -1}),\n",
              " ((18, A, 8), {HIT: -0.81, HOLD: -1}),\n",
              " ((18, A, 9), {HIT: 0.9, HOLD: 0}),\n",
              " ((18, A, 10), {HIT: 0.81, HOLD: -1}),\n",
              " ((19, no A, 1), {HIT: 0.9, HOLD: 0}),\n",
              " ((19, no A, 2), {HIT: 0.9, HOLD: 1}),\n",
              " ((19, no A, 3), {HIT: 0, HOLD: 1}),\n",
              " ((19, no A, 4), {HIT: 0.9, HOLD: -1}),\n",
              " ((19, no A, 5), {HIT: 0.9, HOLD: 1}),\n",
              " ((19, no A, 6), {HIT: 0.9, HOLD: 1}),\n",
              " ((19, no A, 7), {HIT: 0.9, HOLD: 1}),\n",
              " ((19, no A, 8), {HIT: 0.9, HOLD: 1}),\n",
              " ((19, no A, 9), {HIT: 0.9, HOLD: 1}),\n",
              " ((19, no A, 10), {HIT: 0.81, HOLD: 1}),\n",
              " ((19, A, 1), {HIT: -0.81, HOLD: 0}),\n",
              " ((19, A, 2), {HIT: -0.9, HOLD: 1}),\n",
              " ((19, A, 3), {HIT: -0.9, HOLD: 1}),\n",
              " ((19, A, 4), {HIT: 0.81, HOLD: -1}),\n",
              " ((19, A, 5), {HIT: -0.9, HOLD: 1}),\n",
              " ((19, A, 6), {HIT: -0.9, HOLD: 1}),\n",
              " ((19, A, 7), {HIT: 0.9, HOLD: 1}),\n",
              " ((19, A, 8), {HIT: 0.81, HOLD: 1}),\n",
              " ((19, A, 9), {HIT: -0.9, HOLD: 1}),\n",
              " ((19, A, 10), {HIT: -0.9, HOLD: 1}),\n",
              " ((20, no A, 1), {HIT: 0.9, HOLD: 1}),\n",
              " ((20, no A, 2), {HIT: 0, HOLD: 1}),\n",
              " ((20, no A, 3), {HIT: 0, HOLD: 1}),\n",
              " ((20, no A, 4), {HIT: 0.9, HOLD: 1}),\n",
              " ((20, no A, 5), {HIT: 0.9, HOLD: 1}),\n",
              " ((20, no A, 6), {HIT: 0.9, HOLD: 1}),\n",
              " ((20, no A, 7), {HIT: 0.9, HOLD: 1}),\n",
              " ((20, no A, 8), {HIT: 0.9, HOLD: 1}),\n",
              " ((20, no A, 9), {HIT: 0.0, HOLD: 0}),\n",
              " ((20, no A, 10), {HIT: 0.9, HOLD: 1}),\n",
              " ((20, A, 1), {HIT: 0.9, HOLD: -1}),\n",
              " ((20, A, 2), {HIT: 0.9, HOLD: 1}),\n",
              " ((20, A, 3), {HIT: 0.9, HOLD: 1}),\n",
              " ((20, A, 4), {HIT: 0.9, HOLD: 1}),\n",
              " ((20, A, 5), {HIT: 0.81, HOLD: 1}),\n",
              " ((20, A, 6), {HIT: -0.9, HOLD: -1}),\n",
              " ((20, A, 7), {HIT: 0.81, HOLD: 1}),\n",
              " ((20, A, 8), {HIT: 0.9, HOLD: 0}),\n",
              " ((20, A, 9), {HIT: -0.9, HOLD: 1}),\n",
              " ((20, A, 10), {HIT: 0.9, HOLD: -1}),\n",
              " ((21, no A, 1), {HIT: 0, HOLD: 1}),\n",
              " ((21, no A, 2), {HIT: 0, HOLD: 0}),\n",
              " ((21, no A, 3), {HIT: 0, HOLD: 1}),\n",
              " ((21, no A, 4), {HIT: 0, HOLD: 1}),\n",
              " ((21, no A, 5), {HIT: 0, HOLD: 1}),\n",
              " ((21, no A, 6), {HIT: 0, HOLD: 1}),\n",
              " ((21, no A, 7), {HIT: 0, HOLD: 1}),\n",
              " ((21, no A, 8), {HIT: 0, HOLD: 1}),\n",
              " ((21, no A, 9), {HIT: 0, HOLD: 1}),\n",
              " ((21, no A, 10), {HIT: 0, HOLD: 1}),\n",
              " ((21, A, 1), {HIT: -0.9, HOLD: 1}),\n",
              " ((21, A, 2), {HIT: 0.9, HOLD: 1}),\n",
              " ((21, A, 3), {HIT: -0.81, HOLD: 1}),\n",
              " ((21, A, 4), {HIT: 0.9, HOLD: 1}),\n",
              " ((21, A, 5), {HIT: -0.81, HOLD: 1}),\n",
              " ((21, A, 6), {HIT: -0.9, HOLD: 1}),\n",
              " ((21, A, 7), {HIT: -0.9, HOLD: 1}),\n",
              " ((21, A, 8), {HIT: 0.9, HOLD: 1}),\n",
              " ((21, A, 9), {HIT: 0.9, HOLD: 1}),\n",
              " ((21, A, 10), {HIT: -0.9, HOLD: 1})]"
            ]
          },
          "metadata": {},
          "execution_count": 422
        }
      ],
      "source": [
        "sorted(q_dict.items(), key=lambda e: astuple(e[0]))"
      ]
    },
    {
      "cell_type": "markdown",
      "id": "5f1edcc8-4960-492a-bfae-de02112fe072",
      "metadata": {
        "id": "5f1edcc8-4960-492a-bfae-de02112fe072"
      },
      "source": [
        "### Developing the Learning Loop"
      ]
    },
    {
      "cell_type": "markdown",
      "id": "425e5f60-39f3-4f6e-a9bb-c1c2f2e5d410",
      "metadata": {
        "id": "425e5f60-39f3-4f6e-a9bb-c1c2f2e5d410"
      },
      "source": [
        "We see that the policy has indeed improved in this way. Hopefully, by repeating this procedure many times we will come (close) to the optimal policy."
      ]
    },
    {
      "cell_type": "code",
      "execution_count": null,
      "id": "28f06618-89dd-4ba3-ade8-7db546695ece",
      "metadata": {
        "colab": {
          "base_uri": "https://localhost:8080/",
          "height": 447
        },
        "id": "28f06618-89dd-4ba3-ade8-7db546695ece",
        "outputId": "a7bc46ae-bb84-4b8c-e2ca-9dc38b2c0285"
      },
      "outputs": [
        {
          "output_type": "stream",
          "name": "stderr",
          "text": [
            "100%|██████████| 40/40 [00:23<00:00,  1.70it/s]\n"
          ]
        },
        {
          "output_type": "display_data",
          "data": {
            "text/plain": [
              "<Figure size 640x480 with 1 Axes>"
            ],
            "image/png": "[encoded data removed]"
          },
          "metadata": {}
        }
      ],
      "source": [
        "q_dict = dict()\n",
        "results = []\n",
        "for k in trange(40):\n",
        "    policy = create_greedy_policy(q_dict)\n",
        "    res, exp = apply_policy(policy, deck, 10000, gamma=0.5, random_init_action=True, random_init_state=True)\n",
        "    results.append(res.loss_per_game())\n",
        "    q_dict = evaluate_Q(exp)\n",
        "plt.plot(results)\n",
        "plt.grid(True)"
      ]
    },
    {
      "cell_type": "code",
      "execution_count": null,
      "id": "f953548c-8eb8-44fd-a5a3-b30e5c534733",
      "metadata": {
        "colab": {
          "base_uri": "https://localhost:8080/",
          "height": 49
        },
        "id": "f953548c-8eb8-44fd-a5a3-b30e5c534733",
        "outputId": "03a960fe-ceec-4ef4-9456-0b79261109c2"
      },
      "outputs": [
        {
          "output_type": "display_data",
          "data": {
            "text/plain": [
              "total \u001b[33mscore\u001b[0m=\u001b[1;36m-10000\u001b[0m/\u001b[1;36m10000\u001b[0m games \u001b[1m(\u001b[0m\u001b[1;36m-1.0000\u001b[0m per game\u001b[1m)\u001b[0m :: W \u001b[1;36m0.00\u001b[0m% | D \u001b[1;36m0.00\u001b[0m% | L \u001b[1;36m100.00\u001b[0m%\n"
            ],
            "text/html": [
              "<pre style=\"white-space:pre;overflow-x:auto;line-height:normal;font-family:Menlo,'DejaVu Sans Mono',consolas,'Courier New',monospace\">total <span style=\"color: #808000; text-decoration-color: #808000\">score</span>=<span style=\"color: #008080; text-decoration-color: #008080; font-weight: bold\">-10000</span>/<span style=\"color: #008080; text-decoration-color: #008080; font-weight: bold\">10000</span> games <span style=\"font-weight: bold\">(</span><span style=\"color: #008080; text-decoration-color: #008080; font-weight: bold\">-1.0000</span> per game<span style=\"font-weight: bold\">)</span> :: W <span style=\"color: #008080; text-decoration-color: #008080; font-weight: bold\">0.00</span>% | D <span style=\"color: #008080; text-decoration-color: #008080; font-weight: bold\">0.00</span>% | L <span style=\"color: #008080; text-decoration-color: #008080; font-weight: bold\">100.00</span>%\n",
              "</pre>\n"
            ]
          },
          "metadata": {}
        }
      ],
      "source": [
        "res, _ = apply_policy(create_greedy_policy(q_dict), deck, 10000)\n",
        "print(res)"
      ]
    },
    {
      "cell_type": "code",
      "execution_count": null,
      "id": "cbc4cdae-077b-4cf9-9363-1ee4cef618ff",
      "metadata": {
        "colab": {
          "base_uri": "https://localhost:8080/",
          "height": 34
        },
        "id": "cbc4cdae-077b-4cf9-9363-1ee4cef618ff",
        "outputId": "8f573c7d-32fa-47d6-9847-c466800a21c1"
      },
      "outputs": [
        {
          "output_type": "display_data",
          "data": {
            "text/plain": [
              "total \u001b[33mscore\u001b[0m=\u001b[1;36m-351\u001b[0m/\u001b[1;36m10000\u001b[0m games \u001b[1m(\u001b[0m\u001b[1;36m-0.0351\u001b[0m per game\u001b[1m)\u001b[0m :: W \u001b[1;36m42.41\u001b[0m% | D \u001b[1;36m11.67\u001b[0m% | L \u001b[1;36m45.92\u001b[0m%\n"
            ],
            "text/html": [
              "<pre style=\"white-space:pre;overflow-x:auto;line-height:normal;font-family:Menlo,'DejaVu Sans Mono',consolas,'Courier New',monospace\">total <span style=\"color: #808000; text-decoration-color: #808000\">score</span>=<span style=\"color: #008080; text-decoration-color: #008080; font-weight: bold\">-351</span>/<span style=\"color: #008080; text-decoration-color: #008080; font-weight: bold\">10000</span> games <span style=\"font-weight: bold\">(</span><span style=\"color: #008080; text-decoration-color: #008080; font-weight: bold\">-0.0351</span> per game<span style=\"font-weight: bold\">)</span> :: W <span style=\"color: #008080; text-decoration-color: #008080; font-weight: bold\">42.41</span>% | D <span style=\"color: #008080; text-decoration-color: #008080; font-weight: bold\">11.67</span>% | L <span style=\"color: #008080; text-decoration-color: #008080; font-weight: bold\">45.92</span>%\n",
              "</pre>\n"
            ]
          },
          "metadata": {}
        }
      ],
      "source": [
        "res, _ = apply_policy(dealer_policy, deck, 10000)\n",
        "print(res)"
      ]
    },
    {
      "cell_type": "markdown",
      "id": "4ffcd3f9-5445-4c21-808d-62a77e98291e",
      "metadata": {
        "id": "4ffcd3f9-5445-4c21-808d-62a77e98291e"
      },
      "source": [
        "It is also useful to track \"validation performance\" during training, and to store the policy that was shown to be best in the validation phase, and not the last computed policy!"
      ]
    },
    {
      "cell_type": "code",
      "execution_count": null,
      "id": "bc21902c-11bb-4a80-b0d1-e0071883efc4",
      "metadata": {
        "colab": {
          "base_uri": "https://localhost:8080/",
          "height": 447
        },
        "id": "bc21902c-11bb-4a80-b0d1-e0071883efc4",
        "outputId": "1793aa7b-db8a-4d97-97b4-f2226c32e4a2"
      },
      "outputs": [
        {
          "output_type": "stream",
          "name": "stderr",
          "text": [
            "100%|██████████| 40/40 [00:53<00:00,  1.33s/it]\n"
          ]
        },
        {
          "output_type": "display_data",
          "data": {
            "text/plain": [
              "<Figure size 640x480 with 1 Axes>"
            ],
            "image/png": "[encoded data removed]"
          },
          "metadata": {}
        }
      ],
      "source": [
        "q_dict = dict()\n",
        "results = []\n",
        "results_val = []\n",
        "best_val_loss = None\n",
        "q_dict_best = None\n",
        "for k in trange(40):\n",
        "    policy = create_greedy_policy(q_dict)\n",
        "    res, exp = apply_policy(policy, deck, 10000, gamma=0.5, random_init_action=True, random_init_state=True)\n",
        "    res_val, _ = apply_policy(policy, deck, 10000)\n",
        "    results.append(res.loss_per_game())\n",
        "    results_val.append(res_val.loss_per_game())\n",
        "    if not best_val_loss or best_val_loss <  res_val.loss_per_game():\n",
        "        best_val_loss = res_val.loss_per_game()\n",
        "        q_dict_best = deepcopy(q_dict)\n",
        "    q_dict = evaluate_Q(exp)\n",
        "plt.plot(results)\n",
        "plt.plot(results_val)\n",
        "plt.grid(True)"
      ]
    },
    {
      "cell_type": "code",
      "execution_count": null,
      "id": "3c8accce-e511-4961-a2b7-47f85eccab4b",
      "metadata": {
        "id": "3c8accce-e511-4961-a2b7-47f85eccab4b"
      },
      "outputs": [],
      "source": [
        "best_policy = create_greedy_policy(q_dict_best)"
      ]
    },
    {
      "cell_type": "code",
      "execution_count": null,
      "id": "8b9c2fbf-463e-4010-a500-79335955366b",
      "metadata": {
        "colab": {
          "base_uri": "https://localhost:8080/",
          "height": 34
        },
        "id": "8b9c2fbf-463e-4010-a500-79335955366b",
        "outputId": "b96879b9-7341-4252-a6a2-4a733aaa50a5"
      },
      "outputs": [
        {
          "output_type": "display_data",
          "data": {
            "text/plain": [
              "total \u001b[33mscore\u001b[0m=\u001b[1;36m-4593\u001b[0m/\u001b[1;36m10000\u001b[0m games \u001b[1m(\u001b[0m\u001b[1;36m-0.4593\u001b[0m per game\u001b[1m)\u001b[0m :: W \u001b[1;36m25.56\u001b[0m% | D \u001b[1;36m2.95\u001b[0m% | L \u001b[1;36m71.49\u001b[0m%\n"
            ],
            "text/html": [
              "<pre style=\"white-space:pre;overflow-x:auto;line-height:normal;font-family:Menlo,'DejaVu Sans Mono',consolas,'Courier New',monospace\">total <span style=\"color: #808000; text-decoration-color: #808000\">score</span>=<span style=\"color: #008080; text-decoration-color: #008080; font-weight: bold\">-4593</span>/<span style=\"color: #008080; text-decoration-color: #008080; font-weight: bold\">10000</span> games <span style=\"font-weight: bold\">(</span><span style=\"color: #008080; text-decoration-color: #008080; font-weight: bold\">-0.4593</span> per game<span style=\"font-weight: bold\">)</span> :: W <span style=\"color: #008080; text-decoration-color: #008080; font-weight: bold\">25.56</span>% | D <span style=\"color: #008080; text-decoration-color: #008080; font-weight: bold\">2.95</span>% | L <span style=\"color: #008080; text-decoration-color: #008080; font-weight: bold\">71.49</span>%\n",
              "</pre>\n"
            ]
          },
          "metadata": {}
        }
      ],
      "source": [
        "res, _ = apply_policy(best_policy, deck, 10000)\n",
        "print(res)"
      ]
    },
    {
      "cell_type": "markdown",
      "id": "de2c9651-b318-4f9f-9eaa-c12d53c6b1bb",
      "metadata": {
        "id": "de2c9651-b318-4f9f-9eaa-c12d53c6b1bb"
      },
      "source": [
        "## Visualizing the best policy"
      ]
    },
    {
      "cell_type": "markdown",
      "id": "73f1499e-8c9b-4625-b413-a0201618d43a",
      "metadata": {
        "id": "73f1499e-8c9b-4625-b413-a0201618d43a"
      },
      "source": [
        "Let us now create a function which will enable us to visualize policies. The visualization will be very effective in understanding what a policy actually does!"
      ]
    },
    {
      "cell_type": "code",
      "execution_count": null,
      "id": "f49a557f-ee79-4428-932e-d7a32a3980fe",
      "metadata": {
        "id": "f49a557f-ee79-4428-932e-d7a32a3980fe"
      },
      "outputs": [],
      "source": [
        "def visualize_policy(policy):\n",
        "    \"\"\"Visualize the policy.\n",
        "\n",
        "    The policy will be visualized using a colored greed.\n",
        "    The horizontal axis will correspond to the player total and the vertical axis to the\n",
        "    dealer's total.\n",
        "\n",
        "    If a cell is colored in red, it means that the action is HIT, regardless of existence of usable ACE.\n",
        "    If a cell is colored in blue, it means HOLD, regardless of existence of usable ACE.\n",
        "    Green cells are those in which HIT will be played only if there is a usable ACE.\n",
        "    Black cells are those in which HIT will be played only if there is no usable ACE.\n",
        "\n",
        "    Since the last case (play HIT if there is no usable ACE, and HOLD otherwise) seems counterintutive,\n",
        "    the color black is selected to distinguish it from other states.\n",
        "    \"\"\"\n",
        "    player_values = list(range(2, 21))\n",
        "    dealer_values = list(range(2, 12))\n",
        "    board = np.ones(shape=(len(dealer_values), len(player_values), 3), dtype=np.uint8)\n",
        "    for r, dv in enumerate(dealer_values):\n",
        "        for c, pv in enumerate(player_values):\n",
        "            if pv < 11:\n",
        "                action_t = policy(State(pv, False, dv)) == Action.HIT\n",
        "                if action_t:\n",
        "                    board[r, c, :] = (255, 0, 0)\n",
        "                else:\n",
        "                    board[r, c, :] = (0, 0, 255)\n",
        "            else:\n",
        "                action_t = policy(State(pv, True, dv)) == Action.HIT\n",
        "                action_f = policy(State(pv, False, dv)) == Action.HIT\n",
        "                if action_t and action_f:\n",
        "                    board[r, c, :] = (255, 0, 0)\n",
        "                elif action_t and not action_f:\n",
        "                    board[r, c, :] = (0, 255, 0)\n",
        "                elif not action_t and not action_f:\n",
        "                    board[r, c, :] = (0, 0, 255)\n",
        "                else:\n",
        "                    board[r, c, :] = (0, 0, 0)\n",
        "    plt.imshow(board, extent=[2, 21, 12, 2])\n",
        "    plt.xticks(np.arange(2.5, 21.5, 1), np.arange(2, 21, 1))\n",
        "    plt.yticks(np.arange(2.5, 12.5, 1), np.arange(2, 12, 1))\n",
        "    plt.xlabel(\"player total\")\n",
        "    plt.ylabel(\"dealer total\")"
      ]
    },
    {
      "cell_type": "markdown",
      "id": "d1c1cf0c-2ede-48c6-861d-e3fb68540f99",
      "metadata": {
        "id": "d1c1cf0c-2ede-48c6-861d-e3fb68540f99"
      },
      "source": [
        "As expected, the dealer policy is very simple and clear!"
      ]
    },
    {
      "cell_type": "code",
      "execution_count": null,
      "id": "94dc7472-1c49-499d-a6da-c04e38bb62ed",
      "metadata": {
        "colab": {
          "base_uri": "https://localhost:8080/",
          "height": 341
        },
        "id": "94dc7472-1c49-499d-a6da-c04e38bb62ed",
        "outputId": "e79da196-61d6-4479-d130-b9937089f285"
      },
      "outputs": [
        {
          "output_type": "display_data",
          "data": {
            "text/plain": [
              "<Figure size 640x480 with 1 Axes>"
            ],
            "image/png": "[encoded data removed]"
          },
          "metadata": {}
        }
      ],
      "source": [
        "visualize_policy(dealer_policy)"
      ]
    },
    {
      "cell_type": "markdown",
      "id": "28f470e2-fe0e-4031-b8e7-673731720ea2",
      "metadata": {
        "id": "28f470e2-fe0e-4031-b8e7-673731720ea2"
      },
      "source": [
        "The random policy is very random :) Important thing to understand is that the image below will differ each time the line of code is invoked, because each time the policy will randomly choose one of the two possible actions for each state."
      ]
    },
    {
      "cell_type": "code",
      "execution_count": null,
      "id": "b43b68f2-9782-4d5f-8830-07862371890b",
      "metadata": {
        "colab": {
          "base_uri": "https://localhost:8080/",
          "height": 341
        },
        "id": "b43b68f2-9782-4d5f-8830-07862371890b",
        "outputId": "d972f05f-29dc-40ed-f5d4-202ffd3e3b4b"
      },
      "outputs": [
        {
          "output_type": "display_data",
          "data": {
            "text/plain": [
              "<Figure size 640x480 with 1 Axes>"
            ],
            "image/png": "[encoded data removed]"
          },
          "metadata": {}
        }
      ],
      "source": [
        "visualize_policy(random_policy)"
      ]
    },
    {
      "cell_type": "markdown",
      "id": "394582f9-a9be-44ef-a015-8dba793ee961",
      "metadata": {
        "id": "394582f9-a9be-44ef-a015-8dba793ee961"
      },
      "source": [
        "Notice that there are no black or green fields for player total less than 11. In these cases, it is impossible for a player to have a usable ACE, so that a level of randomness is reduced.\n",
        "\n",
        "What about our \"best policy\" (which we hope to be nearly optimal)?"
      ]
    },
    {
      "cell_type": "code",
      "execution_count": null,
      "id": "49921e70-fcac-4aca-83c1-dcbaa9857e48",
      "metadata": {
        "colab": {
          "base_uri": "https://localhost:8080/",
          "height": 341
        },
        "id": "49921e70-fcac-4aca-83c1-dcbaa9857e48",
        "outputId": "6c6d2452-7bd9-4756-c7de-d165da1e960c"
      },
      "outputs": [
        {
          "output_type": "display_data",
          "data": {
            "text/plain": [
              "<Figure size 640x480 with 1 Axes>"
            ],
            "image/png": "[encoded data removed]"
          },
          "metadata": {}
        }
      ],
      "source": [
        "visualize_policy(best_policy)"
      ]
    },
    {
      "cell_type": "markdown",
      "id": "8f4fbe3c-bec3-4ea1-8664-c4032ec15294",
      "metadata": {
        "id": "8f4fbe3c-bec3-4ea1-8664-c4032ec15294"
      },
      "source": [
        "Well, the black fields should not be there. Also the green islands in the seas of red (and vice versa) are also suspicious if present. The policy seems reasonable, but it also seems too erratic. Compare this visualization with the simplicity of the dealer's policy. We need to do better. **We need to train better...**"
      ]
    },
    {
      "cell_type": "markdown",
      "id": "e39ccf42-9c5d-4711-aa6c-5d06aec9334e",
      "metadata": {
        "id": "e39ccf42-9c5d-4711-aa6c-5d06aec9334e"
      },
      "source": [
        "## Incremental Learning"
      ]
    },
    {
      "cell_type": "markdown",
      "id": "17e493d9-3194-4f2e-8f8a-080debb3b326",
      "metadata": {
        "id": "17e493d9-3194-4f2e-8f8a-080debb3b326"
      },
      "source": [
        "A **big problem** with _\"naive\"_ Monte Carlo approaches, as the one used until now is that -- as soon as we collect new experience and update the policy -- we essentially discard and forget all that has been learned before. All previous experience is essentially wasted, and we are hoping that each inter-update epoch will be rich enough."
      ]
    },
    {
      "cell_type": "markdown",
      "id": "e5cbe8a0-2b50-432a-8fbf-044eb0d30d6a",
      "metadata": {
        "id": "e5cbe8a0-2b50-432a-8fbf-044eb0d30d6a"
      },
      "source": [
        "What we would like instead is that we accumulate new knowledge along the way and to update our existing assesments of the Q-values. In order to do so, let us first implement a function that updates an existing estimate of a state-action value given a new gain value attained starting from the given state and applying the given initial action."
      ]
    },
    {
      "cell_type": "code",
      "execution_count": null,
      "id": "f21d1b6a-60b9-4953-8361-e15281020e82",
      "metadata": {
        "id": "f21d1b6a-60b9-4953-8361-e15281020e82"
      },
      "outputs": [],
      "source": [
        "def update_q_value(current: float, target: float, alpha: float) -> float:\n",
        "    \"\"\"Update the given current estimate given the new target.\n",
        "\n",
        "    Args:\n",
        "        current (float): existing estimate\n",
        "        target (float): the given target\n",
        "        alpha (float): learning rate\n",
        "\n",
        "    Return:\n",
        "        float: the new, updated estimate\n",
        "    \"\"\"\n",
        "    if current is not None and target is not None:\n",
        "        return current + alpha * (target - current)\n",
        "    elif current is None:\n",
        "        return target\n",
        "    elif target is None:\n",
        "        return current\n",
        "    else:\n",
        "        return None"
      ]
    },
    {
      "cell_type": "markdown",
      "id": "46a51387-d03a-4b5f-b097-3a43a5554ebd",
      "metadata": {
        "id": "46a51387-d03a-4b5f-b097-3a43a5554ebd"
      },
      "source": [
        "Now, we can implement a function that will update the entire `q_dict`, given the a new experience."
      ]
    },
    {
      "cell_type": "code",
      "execution_count": null,
      "id": "8bed7efd-5883-4f84-84ba-a1022c241659",
      "metadata": {
        "id": "8bed7efd-5883-4f84-84ba-a1022c241659"
      },
      "outputs": [],
      "source": [
        "def update_Q(q_dict: QDict, experience: Experience, alpha: float):\n",
        "    \"\"\"\n",
        "    Update Q-values based on the given experience.\n",
        "\n",
        "    Args:\n",
        "        q_dict (QDict): The dictionary containing Q-values.\n",
        "        experience (Experience): The experience to update Q-values from.\n",
        "        alpha (float): The learning rate.\n",
        "\n",
        "    Returns:\n",
        "        None\n",
        "    \"\"\"\n",
        "    for exp in experience:\n",
        "        if len(exp) == 2:\n",
        "            # Experience tuple contains only state and action\n",
        "            s, a = exp\n",
        "            if s not in q_dict:\n",
        "                q_dict[s] = {Action.HIT: 0, Action.HOLD: 0}\n",
        "        elif len(exp) == 3:\n",
        "            # Experience tuple contains state, action, and gain\n",
        "            s, a, g = exp\n",
        "            if s not in q_dict:\n",
        "                q_dict[s] = {Action.HIT: 0, Action.HOLD: 0}\n",
        "            q_dict[s][a] += alpha * (g - q_dict[s][a])\n",
        "        else:\n",
        "            # Invalid experience tuple\n",
        "            raise ValueError(\"Invalid experience tuple: must contain either 2 or 3 values\")\n"
      ]
    },
    {
      "cell_type": "markdown",
      "id": "de036123-af05-4724-97cd-a70ca0150395",
      "metadata": {
        "id": "de036123-af05-4724-97cd-a70ca0150395"
      },
      "source": [
        "Now, we are finally in position to re-write the learning loop in an incremental form..."
      ]
    },
    {
      "cell_type": "code",
      "execution_count": null,
      "id": "10a80c0c-7f0c-4982-b146-71b9c84fb2bb",
      "metadata": {
        "colab": {
          "base_uri": "https://localhost:8080/",
          "height": 447
        },
        "id": "10a80c0c-7f0c-4982-b146-71b9c84fb2bb",
        "outputId": "78fa77d1-5386-4373-de9f-b5854893e54e"
      },
      "outputs": [
        {
          "output_type": "stream",
          "name": "stderr",
          "text": [
            "100%|██████████| 100/100 [02:15<00:00,  1.35s/it]\n"
          ]
        },
        {
          "output_type": "display_data",
          "data": {
            "text/plain": [
              "<Figure size 640x480 with 1 Axes>"
            ],
            "image/png": "[encoded data removed]"
          },
          "metadata": {}
        }
      ],
      "source": [
        "q_dict = dict()\n",
        "results = []\n",
        "results_val = []\n",
        "best_val_loss = None\n",
        "q_dict_best = None\n",
        "alpha = 0.02\n",
        "for k in trange(100):\n",
        "    policy = create_greedy_policy(q_dict)\n",
        "    res, exp = apply_policy(policy, deck, 10000, gamma=0.5, random_init_action=True, random_init_state=True)\n",
        "    res_val, _ = apply_policy(policy, deck, 10000)\n",
        "    results.append(res.loss_per_game())\n",
        "    results_val.append(res_val.loss_per_game())\n",
        "    if not best_val_loss or best_val_loss <  res_val.loss_per_game():\n",
        "        best_val_loss = res_val.loss_per_game()\n",
        "        q_dict_best = deepcopy(q_dict)\n",
        "    update_Q(q_dict, exp, alpha)\n",
        "plt.plot(results)\n",
        "plt.plot(results_val)\n",
        "plt.grid(True)"
      ]
    },
    {
      "cell_type": "markdown",
      "id": "3a4e1251-987e-441b-8288-e610127901c7",
      "metadata": {
        "id": "3a4e1251-987e-441b-8288-e610127901c7"
      },
      "source": [
        "We use more iterations because we can now reuse the previous knowledge, so it does not seem wastefull to use more iterations. Let us test and visualize the policy again..."
      ]
    },
    {
      "cell_type": "code",
      "execution_count": null,
      "id": "7f5458ec-1c80-4af2-89ed-a548def8fcce",
      "metadata": {
        "id": "7f5458ec-1c80-4af2-89ed-a548def8fcce"
      },
      "outputs": [],
      "source": [
        "best_policy = create_greedy_policy(q_dict_best)"
      ]
    },
    {
      "cell_type": "code",
      "execution_count": null,
      "id": "74d9f526-5540-47e6-ab49-0dbbb3930bc4",
      "metadata": {
        "colab": {
          "base_uri": "https://localhost:8080/",
          "height": 34
        },
        "id": "74d9f526-5540-47e6-ab49-0dbbb3930bc4",
        "outputId": "02777fd8-3f6a-43da-cc67-e7327b7ac7ef"
      },
      "outputs": [
        {
          "output_type": "display_data",
          "data": {
            "text/plain": [
              "total \u001b[33mscore\u001b[0m=\u001b[1;36m-4636\u001b[0m/\u001b[1;36m10000\u001b[0m games \u001b[1m(\u001b[0m\u001b[1;36m-0.4636\u001b[0m per game\u001b[1m)\u001b[0m :: W \u001b[1;36m25.31\u001b[0m% | D \u001b[1;36m3.02\u001b[0m% | L \u001b[1;36m71.67\u001b[0m%\n"
            ],
            "text/html": [
              "<pre style=\"white-space:pre;overflow-x:auto;line-height:normal;font-family:Menlo,'DejaVu Sans Mono',consolas,'Courier New',monospace\">total <span style=\"color: #808000; text-decoration-color: #808000\">score</span>=<span style=\"color: #008080; text-decoration-color: #008080; font-weight: bold\">-4636</span>/<span style=\"color: #008080; text-decoration-color: #008080; font-weight: bold\">10000</span> games <span style=\"font-weight: bold\">(</span><span style=\"color: #008080; text-decoration-color: #008080; font-weight: bold\">-0.4636</span> per game<span style=\"font-weight: bold\">)</span> :: W <span style=\"color: #008080; text-decoration-color: #008080; font-weight: bold\">25.31</span>% | D <span style=\"color: #008080; text-decoration-color: #008080; font-weight: bold\">3.02</span>% | L <span style=\"color: #008080; text-decoration-color: #008080; font-weight: bold\">71.67</span>%\n",
              "</pre>\n"
            ]
          },
          "metadata": {}
        }
      ],
      "source": [
        "res, _ = apply_policy(best_policy, deck, 10000)\n",
        "print(res)"
      ]
    },
    {
      "cell_type": "code",
      "execution_count": null,
      "id": "58d950c5-9cb9-40f0-963b-7fed14df6624",
      "metadata": {
        "colab": {
          "base_uri": "https://localhost:8080/",
          "height": 341
        },
        "id": "58d950c5-9cb9-40f0-963b-7fed14df6624",
        "outputId": "aac87411-4524-46df-84f2-8c9e76e4aca3"
      },
      "outputs": [
        {
          "output_type": "display_data",
          "data": {
            "text/plain": [
              "<Figure size 640x480 with 1 Axes>"
            ],
            "image/png": "[encoded data removed]"
          },
          "metadata": {}
        }
      ],
      "source": [
        "visualize_policy(best_policy)"
      ]
    },
    {
      "cell_type": "markdown",
      "id": "7ac8e66e-5d2c-4693-a370-2e8712e05796",
      "metadata": {
        "id": "7ac8e66e-5d2c-4693-a370-2e8712e05796"
      },
      "source": [
        "This is much more reasonable! Perhaps we can do a bit better by concentrating all our learning efforts to the narrow streak of the state-space in which there is still some ambiguity. This, however, is left to the reader for further excercise."
      ]
    },
    {
      "cell_type": "markdown",
      "id": "603e83ee-be24-4081-9e7c-2b48d8bd3a36",
      "metadata": {
        "id": "603e83ee-be24-4081-9e7c-2b48d8bd3a36"
      },
      "source": [
        "**Notice that this policy outperforms the policy of the dealer, but still results in loss of money!**"
      ]
    },
    {
      "cell_type": "markdown",
      "id": "68516317-b596-4e91-8d3b-53d86cbcaaad",
      "metadata": {
        "id": "68516317-b596-4e91-8d3b-53d86cbcaaad"
      },
      "source": [
        "## Assignments for Individual Work"
      ]
    },
    {
      "cell_type": "markdown",
      "id": "0016e23c-8f01-49d1-a4e5-19c55f78a4ce",
      "metadata": {
        "id": "0016e23c-8f01-49d1-a4e5-19c55f78a4ce"
      },
      "source": [
        "### Level 1"
      ]
    },
    {
      "cell_type": "markdown",
      "id": "15328090-6143-4a37-ba05-9d9b0d66b7d1",
      "metadata": {
        "id": "15328090-6143-4a37-ba05-9d9b0d66b7d1"
      },
      "source": [
        "Repeat the functionality of this notebook using more realistic Blackjack rules. For example, in the actual game of Blackjack each player immediately gets two cards (however, only one of the dealer's cards is known to the player, before the player finishes his/hers turn)."
      ]
    },
    {
      "cell_type": "markdown",
      "id": "a53df4a0-21f0-4a06-a3c5-5e65639cc934",
      "metadata": {
        "id": "a53df4a0-21f0-4a06-a3c5-5e65639cc934"
      },
      "source": [
        "### Level 2"
      ]
    },
    {
      "cell_type": "markdown",
      "id": "47149069-95db-4d88-83f1-8a4774f333dd",
      "metadata": {
        "id": "47149069-95db-4d88-83f1-8a4774f333dd"
      },
      "source": [
        "Make the dealer a learning agent also. Repeat the functionality of this notebook (leave the rules the same) by making the dealer's strategy learnable. Train both the player and the dealer by making them play againsta one another (adversarial learning). What is the optimal policy of the dealer? How does it compare to the current one?"
      ]
    },
    {
      "cell_type": "markdown",
      "id": "f5a1b4d1-428b-4a2d-bbe4-89ca3cc2cf7c",
      "metadata": {
        "id": "f5a1b4d1-428b-4a2d-bbe4-89ca3cc2cf7c"
      },
      "source": [
        "### Level 3"
      ]
    },
    {
      "cell_type": "markdown",
      "id": "288c4e6e-ca7c-41f8-9329-a4c85a86d52a",
      "metadata": {
        "id": "288c4e6e-ca7c-41f8-9329-a4c85a86d52a"
      },
      "source": [
        "Make the game symmetric in the following way: Instead of the Player and the Dealer, let us talk about Player 1 and Player 2.\n",
        "\n",
        "Each game consists of two rounds, in the first round Player 1 plays first and in the second round Player 2 plays first.\n",
        "\n",
        "Each round is a single game of blackjack with one card handled to each player and one common card drawn (so that each player forms the initial sum from two cards, with one card being shared by both players). Each player plays (chooses HIT or HOLD) in each turn. If one of the players becomes busted, or if one of the player chooses HOLD, the other player continues drawing cards until he/she is also busted or chooses HOLD. At the end, the player with highest sum less than 21 wins the round.\n",
        "\n",
        "Upon completion of the round, each player receives +1, 0, or -1, depending on the outcome. The total outgome of one game is the sum of outcomes of the two rounds."
      ]
    },
    {
      "cell_type": "markdown",
      "id": "b924396d-e487-4deb-89ca-20be00eb176f",
      "metadata": {
        "id": "b924396d-e487-4deb-89ca-20be00eb176f"
      },
      "source": [
        "## Project for Individual Work"
      ]
    },
    {
      "cell_type": "markdown",
      "id": "c32d6bb1-dd42-4149-a175-c7db876edbec",
      "metadata": {
        "id": "c32d6bb1-dd42-4149-a175-c7db876edbec"
      },
      "source": [
        "Implement the game in its more realistic form: with betting and other allowed actions besides HIT and HOLD. For the actual rules, see https://en.wikipedia.org/wiki/Blackjack"
      ]
    },
    {
      "cell_type": "code",
      "execution_count": null,
      "id": "1db06b99-e9f9-43eb-bc35-a3b237f1efca",
      "metadata": {
        "id": "1db06b99-e9f9-43eb-bc35-a3b237f1efca"
      },
      "outputs": [],
      "source": []
    }
  ],
  "metadata": {
    "kernelspec": {
      "display_name": "Python 3 (ipykernel)",
      "language": "python",
      "name": "python3"
    },
    "language_info": {
      "codemirror_mode": {
        "name": "ipython",
        "version": 3
      },
      "file_extension": ".py",
      "mimetype": "text/x-python",
      "name": "python",
      "nbconvert_exporter": "python",
      "pygments_lexer": "ipython3",
      "version": "3.10.13"
    },
    "colab": {
      "provenance": []
    }
  },
  "nbformat": 4,
  "nbformat_minor": 5
}